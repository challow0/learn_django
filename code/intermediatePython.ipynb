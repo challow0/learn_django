{
 "cells": [
  {
   "cell_type": "markdown",
   "metadata": {},
   "source": [
    "# Book's Link\n",
    "\n",
    "https://github.com/yasoob/intermediatePython"
   ]
  },
  {
   "cell_type": "markdown",
   "metadata": {},
   "source": [
    "# 1.Programmer tools\n",
    "- Object introspection\n",
    "\n",
    "### dir()\n",
    "\n",
    "使用dir函数可以返回属于对象的属性和方法的列表"
   ]
  },
  {
   "cell_type": "code",
   "execution_count": 2,
   "metadata": {},
   "outputs": [
    {
     "data": {
      "text/plain": [
       "['__add__',\n",
       " '__class__',\n",
       " '__contains__',\n",
       " '__delattr__',\n",
       " '__delitem__',\n",
       " '__dir__',\n",
       " '__doc__',\n",
       " '__eq__',\n",
       " '__format__',\n",
       " '__ge__',\n",
       " '__getattribute__',\n",
       " '__getitem__',\n",
       " '__gt__',\n",
       " '__hash__',\n",
       " '__iadd__',\n",
       " '__imul__',\n",
       " '__init__',\n",
       " '__init_subclass__',\n",
       " '__iter__',\n",
       " '__le__',\n",
       " '__len__',\n",
       " '__lt__',\n",
       " '__mul__',\n",
       " '__ne__',\n",
       " '__new__',\n",
       " '__reduce__',\n",
       " '__reduce_ex__',\n",
       " '__repr__',\n",
       " '__reversed__',\n",
       " '__rmul__',\n",
       " '__setattr__',\n",
       " '__setitem__',\n",
       " '__sizeof__',\n",
       " '__str__',\n",
       " '__subclasshook__',\n",
       " 'append',\n",
       " 'clear',\n",
       " 'copy',\n",
       " 'count',\n",
       " 'extend',\n",
       " 'index',\n",
       " 'insert',\n",
       " 'pop',\n",
       " 'remove',\n",
       " 'reverse',\n",
       " 'sort']"
      ]
     },
     "execution_count": 2,
     "metadata": {},
     "output_type": "execute_result"
    }
   ],
   "source": [
    "my_list = [1,2,3]\n",
    "\n",
    "dir(my_list)"
   ]
  },
  {
   "cell_type": "markdown",
   "metadata": {},
   "source": [
    "## type and id"
   ]
  },
  {
   "cell_type": "code",
   "execution_count": 3,
   "metadata": {},
   "outputs": [
    {
     "name": "stdout",
     "output_type": "stream",
     "text": [
      "<class 'str'>\n",
      "<class 'list'>\n",
      "<class 'dict'>\n",
      "<class 'type'>\n",
      "<class 'int'>\n"
     ]
    }
   ],
   "source": [
    "print(type(''))\n",
    "\n",
    "print(type([]))\n",
    "\n",
    "print(type({}))\n",
    "\n",
    "print(type(dict))\n",
    "\n",
    "print(type(3))"
   ]
  },
  {
   "cell_type": "code",
   "execution_count": 4,
   "metadata": {},
   "outputs": [
    {
     "name": "stdout",
     "output_type": "stream",
     "text": [
      "3190829888264\n"
     ]
    }
   ],
   "source": [
    "name = \"Yasoob\"\n",
    "\n",
    "print(id(name))"
   ]
  },
  {
   "cell_type": "markdown",
   "metadata": {},
   "source": [
    "# 2.Synax\n",
    "\n",
    "- Exceptions"
   ]
  },
  {
   "cell_type": "code",
   "execution_count": 7,
   "metadata": {},
   "outputs": [
    {
     "name": "stdout",
     "output_type": "stream",
     "text": [
      "An IOError occured. No such file or directory\n"
     ]
    }
   ],
   "source": [
    "try:\n",
    "    \n",
    "    file = open('test.txt','rb')\n",
    "except IOError as e:\n",
    "    print('An IOError occured. {}'.format(e.args[-1]))"
   ]
  },
  {
   "cell_type": "markdown",
   "metadata": {},
   "source": [
    "## Handling multiple exceptions:"
   ]
  },
  {
   "cell_type": "code",
   "execution_count": 8,
   "metadata": {},
   "outputs": [
    {
     "name": "stdout",
     "output_type": "stream",
     "text": [
      "An error occurred. No such file or directory\n"
     ]
    }
   ],
   "source": [
    "try:\n",
    "    file = open('test.txt', 'rb')\n",
    "except (IOError, EOFError) as e:\n",
    "    print(\"An error occurred. {}\".format(e.args[-1]))"
   ]
  },
  {
   "cell_type": "code",
   "execution_count": 9,
   "metadata": {},
   "outputs": [
    {
     "name": "stdout",
     "output_type": "stream",
     "text": [
      "An error occurred.\n"
     ]
    },
    {
     "ename": "FileNotFoundError",
     "evalue": "[Errno 2] No such file or directory: 'test.txt'",
     "output_type": "error",
     "traceback": [
      "\u001b[1;31m---------------------------------------------------------------------------\u001b[0m",
      "\u001b[1;31mFileNotFoundError\u001b[0m                         Traceback (most recent call last)",
      "\u001b[1;32m<ipython-input-9-9f3c58970d73>\u001b[0m in \u001b[0;36m<module>\u001b[1;34m()\u001b[0m\n\u001b[0;32m      6\u001b[0m \u001b[1;32mexcept\u001b[0m \u001b[0mIOError\u001b[0m \u001b[1;32mas\u001b[0m \u001b[0me\u001b[0m\u001b[1;33m:\u001b[0m\u001b[1;33m\u001b[0m\u001b[0m\n\u001b[0;32m      7\u001b[0m     \u001b[0mprint\u001b[0m\u001b[1;33m(\u001b[0m\u001b[1;34m\"An error occurred.\"\u001b[0m\u001b[1;33m)\u001b[0m\u001b[1;33m\u001b[0m\u001b[0m\n\u001b[1;32m----> 8\u001b[1;33m     \u001b[1;32mraise\u001b[0m \u001b[0me\u001b[0m\u001b[1;33m\u001b[0m\u001b[0m\n\u001b[0m",
      "\u001b[1;32m<ipython-input-9-9f3c58970d73>\u001b[0m in \u001b[0;36m<module>\u001b[1;34m()\u001b[0m\n\u001b[0;32m      1\u001b[0m \u001b[1;32mtry\u001b[0m\u001b[1;33m:\u001b[0m\u001b[1;33m\u001b[0m\u001b[0m\n\u001b[1;32m----> 2\u001b[1;33m     \u001b[0mfile\u001b[0m \u001b[1;33m=\u001b[0m \u001b[0mopen\u001b[0m\u001b[1;33m(\u001b[0m\u001b[1;34m'test.txt'\u001b[0m\u001b[1;33m,\u001b[0m \u001b[1;34m'rb'\u001b[0m\u001b[1;33m)\u001b[0m\u001b[1;33m\u001b[0m\u001b[0m\n\u001b[0m\u001b[0;32m      3\u001b[0m \u001b[1;32mexcept\u001b[0m \u001b[0mEOFError\u001b[0m \u001b[1;32mas\u001b[0m \u001b[0me\u001b[0m\u001b[1;33m:\u001b[0m\u001b[1;33m\u001b[0m\u001b[0m\n\u001b[0;32m      4\u001b[0m     \u001b[0mprint\u001b[0m\u001b[1;33m(\u001b[0m\u001b[1;34m\"An EOF error occurred.\"\u001b[0m\u001b[1;33m)\u001b[0m\u001b[1;33m\u001b[0m\u001b[0m\n\u001b[0;32m      5\u001b[0m     \u001b[1;32mraise\u001b[0m \u001b[0me\u001b[0m\u001b[1;33m\u001b[0m\u001b[0m\n",
      "\u001b[1;31mFileNotFoundError\u001b[0m: [Errno 2] No such file or directory: 'test.txt'"
     ]
    }
   ],
   "source": [
    "try:\n",
    "    file = open('test.txt', 'rb')\n",
    "except EOFError as e:\n",
    "    print(\"An EOF error occurred.\")\n",
    "    raise e\n",
    "except IOError as e:\n",
    "    print(\"An error occurred.\")\n",
    "    raise e"
   ]
  },
  {
   "cell_type": "code",
   "execution_count": 10,
   "metadata": {},
   "outputs": [
    {
     "ename": "FileNotFoundError",
     "evalue": "[Errno 2] No such file or directory: 'test.txt'",
     "output_type": "error",
     "traceback": [
      "\u001b[1;31m---------------------------------------------------------------------------\u001b[0m",
      "\u001b[1;31mFileNotFoundError\u001b[0m                         Traceback (most recent call last)",
      "\u001b[1;32m<ipython-input-10-4d87d48f2515>\u001b[0m in \u001b[0;36m<module>\u001b[1;34m()\u001b[0m\n\u001b[0;32m      3\u001b[0m \u001b[1;32mexcept\u001b[0m \u001b[0mException\u001b[0m \u001b[1;32mas\u001b[0m \u001b[0me\u001b[0m\u001b[1;33m:\u001b[0m\u001b[1;33m\u001b[0m\u001b[0m\n\u001b[0;32m      4\u001b[0m     \u001b[1;31m# Some logging if you want\u001b[0m\u001b[1;33m\u001b[0m\u001b[1;33m\u001b[0m\u001b[0m\n\u001b[1;32m----> 5\u001b[1;33m     \u001b[1;32mraise\u001b[0m \u001b[0me\u001b[0m\u001b[1;33m\u001b[0m\u001b[0m\n\u001b[0m",
      "\u001b[1;32m<ipython-input-10-4d87d48f2515>\u001b[0m in \u001b[0;36m<module>\u001b[1;34m()\u001b[0m\n\u001b[0;32m      1\u001b[0m \u001b[1;32mtry\u001b[0m\u001b[1;33m:\u001b[0m\u001b[1;33m\u001b[0m\u001b[0m\n\u001b[1;32m----> 2\u001b[1;33m     \u001b[0mfile\u001b[0m \u001b[1;33m=\u001b[0m \u001b[0mopen\u001b[0m\u001b[1;33m(\u001b[0m\u001b[1;34m'test.txt'\u001b[0m\u001b[1;33m,\u001b[0m \u001b[1;34m'rb'\u001b[0m\u001b[1;33m)\u001b[0m\u001b[1;33m\u001b[0m\u001b[0m\n\u001b[0m\u001b[0;32m      3\u001b[0m \u001b[1;32mexcept\u001b[0m \u001b[0mException\u001b[0m \u001b[1;32mas\u001b[0m \u001b[0me\u001b[0m\u001b[1;33m:\u001b[0m\u001b[1;33m\u001b[0m\u001b[0m\n\u001b[0;32m      4\u001b[0m     \u001b[1;31m# Some logging if you want\u001b[0m\u001b[1;33m\u001b[0m\u001b[1;33m\u001b[0m\u001b[0m\n\u001b[0;32m      5\u001b[0m     \u001b[1;32mraise\u001b[0m \u001b[0me\u001b[0m\u001b[1;33m\u001b[0m\u001b[0m\n",
      "\u001b[1;31mFileNotFoundError\u001b[0m: [Errno 2] No such file or directory: 'test.txt'"
     ]
    }
   ],
   "source": [
    "try:\n",
    "    file = open('test.txt', 'rb')\n",
    "except Exception as e:\n",
    "    # Some logging if you want\n",
    "    raise e"
   ]
  },
  {
   "cell_type": "markdown",
   "metadata": {},
   "source": [
    "## finally"
   ]
  },
  {
   "cell_type": "code",
   "execution_count": 11,
   "metadata": {},
   "outputs": [
    {
     "name": "stdout",
     "output_type": "stream",
     "text": [
      "An IOError occurred. No such file or directory\n",
      "This would be printed whether or not an exception occurred!\n"
     ]
    }
   ],
   "source": [
    "try:\n",
    "    file = open('test.txt', 'rb')\n",
    "except IOError as e:\n",
    "    print('An IOError occurred. {}'.format(e.args[-1]))\n",
    "finally:\n",
    "    print(\"This would be printed whether or not an exception occurred!\")\n",
    "\n",
    "# Output: An IOError occurred. No such file or directory\n",
    "# This would be printed whether or not an exception occurred!"
   ]
  },
  {
   "cell_type": "markdown",
   "metadata": {},
   "source": [
    "## try/else"
   ]
  },
  {
   "cell_type": "code",
   "execution_count": 13,
   "metadata": {},
   "outputs": [
    {
     "name": "stdout",
     "output_type": "stream",
     "text": [
      "I am sure no exception is going to occur!\n",
      "This would only run if no exception occurs. And an error occur here would NOT be caught\n",
      "This would be printed in every case.\n"
     ]
    }
   ],
   "source": [
    "try:\n",
    "    \n",
    "    print('I am sure no exception is going to occur!')\n",
    "    \n",
    "except Exception:\n",
    "    \n",
    "    print('exception')\n",
    "    \n",
    "else:\n",
    "    # any code that should only run if no exception occurs in the try,\n",
    "    # but for which exceptions should NOT be caught\n",
    "    \n",
    "    print('This would only run if no exception occurs. And an error occur here '\n",
    "         \n",
    "          'would NOT be caught')\n",
    "finally:\n",
    "    \n",
    "    print('This would be printed in every case.')"
   ]
  },
  {
   "cell_type": "markdown",
   "metadata": {},
   "source": [
    "- For-Else\n",
    "\n",
    "## for/else"
   ]
  },
  {
   "cell_type": "code",
   "execution_count": 15,
   "metadata": {},
   "outputs": [
    {
     "name": "stdout",
     "output_type": "stream",
     "text": [
      "Apple\n",
      "Banana\n",
      "Mango\n"
     ]
    }
   ],
   "source": [
    "# the loops we know\n",
    "\n",
    "fruits = ['apple', 'banana', 'mango']\n",
    "\n",
    "for fruit in fruits:\n",
    "    \n",
    "    print(fruit.capitalize())"
   ]
  },
  {
   "cell_type": "code",
   "execution_count": 17,
   "metadata": {},
   "outputs": [
    {
     "name": "stdout",
     "output_type": "stream",
     "text": [
      "2  is a prime number\n",
      "3  is a prime number\n",
      "4 equals  2 * 2.0\n",
      "5  is a prime number\n",
      "6 equals  2 * 3.0\n",
      "7  is a prime number\n",
      "8 equals  2 * 4.0\n",
      "9 equals  3 * 3.0\n"
     ]
    }
   ],
   "source": [
    "'''\n",
    "   else 字句在 for 执行之后正常执行。\n",
    "   \n",
    "   最常见的结构是在 for 中找一个 item ，如果找到我们使用 break 退出循环，\n",
    "   \n",
    "   另一种场景是没有找到循环结束，我们想要知道是什么原因导致的循环中介\n",
    "'''\n",
    "\n",
    "# basic structure\n",
    "'''\n",
    "\n",
    "for item in container:\n",
    "\n",
    "    if search_something(item):\n",
    "    \n",
    "        # Found it!\n",
    "        \n",
    "        process(item)\n",
    "        \n",
    "        break\n",
    "        \n",
    "else:\n",
    "\n",
    "    # Didn't find anything\n",
    "    \n",
    "    not_found_in_container()\n",
    "\n",
    "'''\n",
    "\n",
    "for n in range(2, 10):\n",
    "    \n",
    "    for x in range(2, n):\n",
    "        \n",
    "        if n % x == 0:\n",
    "            \n",
    "            print(n, 'equals ',x,'*',n/x)\n",
    "            break\n",
    "    else:\n",
    "        \n",
    "        # loop fell through without finding a factor\n",
    "        \n",
    "        print(n, ' is a prime number')\n",
    "\n",
    "\n",
    "\n",
    "\n",
    "\n"
   ]
  },
  {
   "cell_type": "markdown",
   "metadata": {},
   "source": [
    "- Ternary Operators"
   ]
  },
  {
   "cell_type": "code",
   "execution_count": 3,
   "metadata": {},
   "outputs": [
    {
     "name": "stdout",
     "output_type": "stream",
     "text": [
      "nice\n"
     ]
    }
   ],
   "source": [
    "is_nice = True\n",
    "\n",
    "state = \"nice\" if is_nice else \"not nice\"\n",
    "\n",
    "print(state)"
   ]
  },
  {
   "cell_type": "code",
   "execution_count": 5,
   "metadata": {},
   "outputs": [
    {
     "name": "stdout",
     "output_type": "stream",
     "text": [
      "The cat is  nice\n"
     ]
    }
   ],
   "source": [
    "nice = True\n",
    "\n",
    "personality = (\"mean\", \"nice\")[nice]\n",
    "\n",
    "print(\"The cat is \", personality)\n"
   ]
  },
  {
   "cell_type": "code",
   "execution_count": 7,
   "metadata": {},
   "outputs": [
    {
     "name": "stdout",
     "output_type": "stream",
     "text": [
      "2\n"
     ]
    },
    {
     "ename": "ZeroDivisionError",
     "evalue": "division by zero",
     "output_type": "error",
     "traceback": [
      "\u001b[1;31m---------------------------------------------------------------------------\u001b[0m",
      "\u001b[1;31mZeroDivisionError\u001b[0m                         Traceback (most recent call last)",
      "\u001b[1;32m<ipython-input-7-d1895aeff41b>\u001b[0m in \u001b[0;36m<module>\u001b[1;34m()\u001b[0m\n\u001b[0;32m      3\u001b[0m \u001b[0mprint\u001b[0m\u001b[1;33m(\u001b[0m\u001b[1;36m2\u001b[0m \u001b[1;32mif\u001b[0m \u001b[0mcondition\u001b[0m \u001b[1;32melse\u001b[0m \u001b[1;36m1\u001b[0m\u001b[1;33m/\u001b[0m\u001b[1;36m0\u001b[0m\u001b[1;33m)\u001b[0m\u001b[1;33m\u001b[0m\u001b[0m\n\u001b[0;32m      4\u001b[0m \u001b[1;33m\u001b[0m\u001b[0m\n\u001b[1;32m----> 5\u001b[1;33m \u001b[0mprint\u001b[0m\u001b[1;33m(\u001b[0m\u001b[1;33m(\u001b[0m\u001b[1;36m1\u001b[0m\u001b[1;33m/\u001b[0m\u001b[1;36m0\u001b[0m\u001b[1;33m,\u001b[0m \u001b[1;36m2\u001b[0m\u001b[1;33m)\u001b[0m\u001b[1;33m[\u001b[0m\u001b[0mcondition\u001b[0m\u001b[1;33m]\u001b[0m\u001b[1;33m)\u001b[0m\u001b[1;33m\u001b[0m\u001b[0m\n\u001b[0m",
      "\u001b[1;31mZeroDivisionError\u001b[0m: division by zero"
     ]
    }
   ],
   "source": [
    "condition =True\n",
    "\n",
    "print(2 if condition else 1/0)\n",
    "\n",
    "print((1/0, 2)[condition])"
   ]
  },
  {
   "cell_type": "code",
   "execution_count": 9,
   "metadata": {},
   "outputs": [
    {
     "name": "stdout",
     "output_type": "stream",
     "text": [
      "True\n",
      "SOME\n"
     ]
    }
   ],
   "source": [
    "print(True or \"some\")\n",
    "\n",
    "print(False or \"SOME\")"
   ]
  },
  {
   "cell_type": "markdown",
   "metadata": {},
   "source": [
    "- Global & Return\n",
    "\n",
    "## Global & Return"
   ]
  },
  {
   "cell_type": "code",
   "execution_count": 10,
   "metadata": {},
   "outputs": [
    {
     "name": "stdout",
     "output_type": "stream",
     "text": [
      "8\n"
     ]
    }
   ],
   "source": [
    "def add(value1, value2):\n",
    "    \n",
    "    return value1 + value2\n",
    "\n",
    "result = add(3, 5)\n",
    "\n",
    "print(result)"
   ]
  },
  {
   "cell_type": "code",
   "execution_count": 11,
   "metadata": {},
   "outputs": [
    {
     "name": "stdout",
     "output_type": "stream",
     "text": [
      "8\n",
      "10\n"
     ]
    }
   ],
   "source": [
    "def add(value1, value2):\n",
    "    \n",
    "    global result\n",
    "    \n",
    "    result = value1 + value2\n",
    "    \n",
    "add(3, 5)\n",
    "\n",
    "print(result)\n",
    "\n",
    "result = 10\n",
    "\n",
    "print(result)"
   ]
  },
  {
   "cell_type": "markdown",
   "metadata": {},
   "source": [
    "## Multiple return values"
   ]
  },
  {
   "cell_type": "code",
   "execution_count": 12,
   "metadata": {},
   "outputs": [
    {
     "name": "stdout",
     "output_type": "stream",
     "text": [
      "Danny\n",
      "30\n"
     ]
    }
   ],
   "source": [
    "def profile():\n",
    "    \n",
    "    global name\n",
    "    \n",
    "    global age\n",
    "    \n",
    "    name = \"Danny\"\n",
    "    \n",
    "    age = 30\n",
    "    \n",
    "profile()\n",
    "\n",
    "print(name)\n",
    "\n",
    "print(age)\n",
    "\n",
    "######## **Note:**Don't try to use the above mentioned method##########"
   ]
  },
  {
   "cell_type": "code",
   "execution_count": 14,
   "metadata": {},
   "outputs": [
    {
     "name": "stdout",
     "output_type": "stream",
     "text": [
      "Danny\n",
      "30\n"
     ]
    }
   ],
   "source": [
    "'''\n",
    "\n",
    "Some try to solve this problem \n",
    "\n",
    "by returning a tuple, list or dict with the required values \n",
    "\n",
    "after the function terminates. \n",
    "\n",
    "It is one way to do it and works like a charm:\n",
    "\n",
    "'''\n",
    "\n",
    "def profile():\n",
    "    \n",
    "    name = \"Danny\"\n",
    "    \n",
    "    age = 30\n",
    "    \n",
    "    return (name, age)\n",
    "\n",
    "profile_data = profile()\n",
    "\n",
    "print(profile_data[0])\n",
    "\n",
    "print(profile_data[1])"
   ]
  },
  {
   "cell_type": "code",
   "execution_count": 16,
   "metadata": {},
   "outputs": [
    {
     "name": "stdout",
     "output_type": "stream",
     "text": [
      "Danny\n",
      "30\n"
     ]
    }
   ],
   "source": [
    "# more common convention\n",
    "\n",
    "def profile():\n",
    "    \n",
    "    name = \"Danny\"\n",
    "    \n",
    "    age = 30\n",
    "    \n",
    "    return name, age\n",
    "\n",
    "profile_name, profile_age  = profile()\n",
    "\n",
    "print(profile_name)\n",
    "\n",
    "print(profile_age)"
   ]
  },
  {
   "cell_type": "code",
   "execution_count": 19,
   "metadata": {},
   "outputs": [
    {
     "name": "stdout",
     "output_type": "stream",
     "text": [
      "Person(name='Danny', age=31) <class '__main__.Person'>\n",
      "Danny\n",
      "31\n",
      "Danny\n",
      "31\n",
      "Danny\n",
      "31\n"
     ]
    }
   ],
   "source": [
    "from collections import namedtuple\n",
    "\n",
    "def profile():\n",
    "    \n",
    "    Person = namedtuple('Person', 'name age')\n",
    "    \n",
    "    return Person(name=\"Danny\", age=31)\n",
    "\n",
    "# Use as namedtuple\n",
    "\n",
    "p = profile()\n",
    "\n",
    "print(p, type(p))\n",
    "\n",
    "print(p.name)\n",
    "\n",
    "print(p.age)\n",
    "\n",
    "p = profile()\n",
    "\n",
    "print(p[0])\n",
    "\n",
    "print(p[1])\n",
    "\n",
    "name, age = profile()\n",
    "\n",
    "print(name)\n",
    "\n",
    "print(age)"
   ]
  },
  {
   "cell_type": "markdown",
   "metadata": {},
   "source": [
    "- oprn function\n",
    "\n",
    "## Open function"
   ]
  },
  {
   "cell_type": "code",
   "execution_count": 20,
   "metadata": {},
   "outputs": [
    {
     "ename": "SyntaxError",
     "evalue": "invalid syntax (<ipython-input-20-2f3a2d200e76>, line 12)",
     "output_type": "error",
     "traceback": [
      "\u001b[1;36m  File \u001b[1;32m\"<ipython-input-20-2f3a2d200e76>\"\u001b[1;36m, line \u001b[1;32m12\u001b[0m\n\u001b[1;33m    with open('photo.jpg','r+') as \"f:System Volume Information\"\u001b[0m\n\u001b[1;37m                                                                ^\u001b[0m\n\u001b[1;31mSyntaxError\u001b[0m\u001b[1;31m:\u001b[0m invalid syntax\n"
     ]
    }
   ],
   "source": [
    "# There are 3 faults in the below code\n",
    "\n",
    "f = open('photo.jpg','r+')\n",
    "\n",
    "jpgdata = f.read()\n",
    "\n",
    "f.close()\n",
    "\n",
    "# 1.  To make sure that the file gets closed \n",
    "# whether an exception occurs or not, pack it into a with statement:\n",
    "\n",
    "with open('photo.jpg','r+') as \"f:System Volume Information\"\n",
    "    jpgdata = f.read()"
   ]
  },
  {
   "cell_type": "markdown",
   "metadata": {},
   "source": [
    "- If you want to read the file, pass in `r`\n",
    "- If you want to read and write the file, pass in `r+`\n",
    "- If you want to overwrite the file, pass in `w`\n",
    "- If you want to append to the file, pass in `a`"
   ]
  },
  {
   "cell_type": "code",
   "execution_count": null,
   "metadata": {},
   "outputs": [],
   "source": [
    "import io\n",
    "\n",
    "with open('photo.jpg','rb') as inf:\n",
    "    \n",
    "    jpgdata = inf.read()\n",
    "    \n",
    "if jpgdata.startwith(b'\\xff\\xd8'):\n",
    "    \n",
    "    text = u'This is a JPEG file (%d bytes long)\\n'\n",
    "    \n",
    "else:\n",
    "    \n",
    "    text = u'This is a random file (%d bytes long)\\n'\n",
    "    \n",
    "with io.open('summary.txt','w',encoding='utf-8') as outf:\n",
    "    \n",
    "    outf.write(text % len(jpgdata))"
   ]
  },
  {
   "cell_type": "markdown",
   "metadata": {},
   "source": [
    "- *args and **kwargs\n",
    "\n",
    "## *args and **kwargs"
   ]
  },
  {
   "cell_type": "code",
   "execution_count": 22,
   "metadata": {},
   "outputs": [
    {
     "name": "stdout",
     "output_type": "stream",
     "text": [
      "first normal arg: yasoob\n",
      "another arg through * argv:  python\n",
      "another arg through * argv:  eggs\n",
      "another arg through * argv:  test\n"
     ]
    }
   ],
   "source": [
    "def test_var_args(f_arg, *argv):\n",
    "    \n",
    "    print('first normal arg:', f_arg)\n",
    "    \n",
    "    for arg in argv:\n",
    "        \n",
    "        print('another arg through * argv: ', arg)\n",
    "\n",
    "test_var_args('yasoob','python','eggs','test')"
   ]
  },
  {
   "cell_type": "code",
   "execution_count": 24,
   "metadata": {},
   "outputs": [
    {
     "name": "stdout",
     "output_type": "stream",
     "text": [
      "name =  tasoob\n"
     ]
    }
   ],
   "source": [
    "def greet_me(**kwargs):\n",
    "    \n",
    "    for key, value in kwargs.items():\n",
    "        \n",
    "        print(\"{0} =  {1}\".format(key, value))\n",
    "        \n",
    "greet_me(name='tasoob')"
   ]
  },
  {
   "cell_type": "markdown",
   "metadata": {},
   "source": [
    "## Using *args and **kwargs to call a function\n"
   ]
  },
  {
   "cell_type": "code",
   "execution_count": 27,
   "metadata": {},
   "outputs": [
    {
     "name": "stdout",
     "output_type": "stream",
     "text": [
      "arg1:  two\n",
      "arg2:  3\n",
      "arg3:  5\n",
      "arg1:  5\n",
      "arg2:  two\n",
      "arg3:  3\n"
     ]
    }
   ],
   "source": [
    "def test_args_kwargs(arg1, arg2, arg3):\n",
    "    \n",
    "    print(\"arg1: \",arg1)\n",
    "    \n",
    "    print(\"arg2: \",arg2)\n",
    "    \n",
    "    print(\"arg3: \",arg3)\n",
    "    \n",
    "args = (\"two\", 3, 5)\n",
    "\n",
    "test_args_kwargs(*args)\n",
    "\n",
    "kwargs = {\"arg3\": 3, \"arg2\": \"two\", \"arg1\":5}\n",
    "\n",
    "test_args_kwargs(**kwargs)"
   ]
  },
  {
   "cell_type": "markdown",
   "metadata": {},
   "source": [
    "- Context Managers\n",
    "\n",
    "## Context Managers\n"
   ]
  },
  {
   "cell_type": "code",
   "execution_count": null,
   "metadata": {},
   "outputs": [],
   "source": [
    "with open('some_file','w') as opened_file:\n",
    "    \n",
    "    opened_file.write('Hola!')\n",
    "    \n",
    "## equivalent to below\n",
    "\n",
    "file = open('some_file','w')\n",
    "\n",
    "try:\n",
    "    \n",
    "    file.write('Hola!')\n",
    "    \n",
    "finally:\n",
    "    \n",
    "    file.close()"
   ]
  },
  {
   "cell_type": "markdown",
   "metadata": {},
   "source": [
    "## Implementing a Context Manager as a Class:\n"
   ]
  },
  {
   "cell_type": "code",
   "execution_count": null,
   "metadata": {},
   "outputs": [],
   "source": [
    "class File(object):\n",
    "    \n",
    "    def __init__(self,file_name,method):\n",
    "        \n",
    "        self.file_obj = open(file_name, method)\n",
    "        \n",
    "    def __enter__(self):\n",
    "        \n",
    "        return self.file_obj\n",
    "    \n",
    "    def __exit__(self, type, value, traceback):\n",
    "        self.file_obj.close()\n",
    "  \n",
    "with File('demo.txt','w') as opened_file:\n",
    "    \n",
    "    opened_file.write('Hola!')\n",
    "    \n",
    "'''\n",
    "\n",
    "1.The with statement stores the __exit__ method of the File class.\n",
    "2.It calls the __enter__ method of the File class.\n",
    "3.The __enter__ method opens the file and returns it.\n",
    "4.The opened file handle is passed to opened_file.\n",
    "5.We write to the file using .write().\n",
    "6.The with statement calls the stored __exit__ method.\n",
    "7.The __exit__ method closes the file.\n",
    "\n",
    "'''"
   ]
  },
  {
   "cell_type": "markdown",
   "metadata": {},
   "source": [
    "## Handling Exceptions\n"
   ]
  },
  {
   "cell_type": "code",
   "execution_count": 30,
   "metadata": {},
   "outputs": [
    {
     "name": "stdout",
     "output_type": "stream",
     "text": [
      "Exception has been handled\n"
     ]
    }
   ],
   "source": [
    "class File(object):\n",
    "    \n",
    "    def __init__(self, file_name, method):\n",
    "        \n",
    "        self.file_obj = open(file_name, method)\n",
    "        \n",
    "    def __enter__(self):\n",
    "        \n",
    "        return self.file_obj\n",
    "    \n",
    "    def __exit__(self, type, value, traceback):\n",
    "        \n",
    "        print(\"Exception has been handled\")\n",
    "        \n",
    "        self.file_obj.close()\n",
    "        \n",
    "        return True\n",
    "    \n",
    "with File('demo.txt','w') as opened_file:\n",
    "    \n",
    "    opened_file.undefined_function()"
   ]
  },
  {
   "cell_type": "markdown",
   "metadata": {},
   "source": [
    "## Implementing a Context Manager as a Generator\n"
   ]
  },
  {
   "cell_type": "code",
   "execution_count": 2,
   "metadata": {},
   "outputs": [],
   "source": [
    "from contextlib import contextmanager\n",
    "\n",
    "@contextmanager\n",
    "def open_file(name):\n",
    "    \n",
    "    f = open(name, 'w')\n",
    "    \n",
    "    try:\n",
    "        \n",
    "        yield f\n",
    "        \n",
    "    finally:\n",
    "        \n",
    "        f.close()\n"
   ]
  },
  {
   "cell_type": "markdown",
   "metadata": {},
   "source": [
    "# 3. Functional programming\n",
    "\n",
    "\n",
    "- Enumerate\n",
    "\n",
    "## Enumerate"
   ]
  },
  {
   "cell_type": "code",
   "execution_count": 5,
   "metadata": {},
   "outputs": [
    {
     "name": "stdout",
     "output_type": "stream",
     "text": [
      "1 apple\n",
      "2 banana\n",
      "3 grapes\n",
      "4 pear\n"
     ]
    }
   ],
   "source": [
    "# for counter, value in enumerate(some_list):\n",
    "    \n",
    "#     print(counter, value)\n",
    "    \n",
    "my_list = ['apple', 'banana', 'grapes', 'pear']\n",
    "\n",
    "for c, value in enumerate(my_list, 1):\n",
    "    \n",
    "    print(c, value)"
   ]
  },
  {
   "cell_type": "code",
   "execution_count": 7,
   "metadata": {},
   "outputs": [
    {
     "name": "stdout",
     "output_type": "stream",
     "text": [
      "[(1, 'apple'), (2, 'banana'), (3, 'grapes'), (4, 'pear')]\n"
     ]
    }
   ],
   "source": [
    "my_list = ['apple', 'banana', 'grapes', 'pear']\n",
    "\n",
    "counter_list = list(enumerate(my_list, 1))\n",
    "\n",
    "print(counter_list)"
   ]
  },
  {
   "cell_type": "markdown",
   "metadata": {},
   "source": [
    "- Lambdas\n",
    "\n",
    "## Lambdas"
   ]
  },
  {
   "cell_type": "code",
   "execution_count": 9,
   "metadata": {},
   "outputs": [
    {
     "name": "stdout",
     "output_type": "stream",
     "text": [
      "8\n"
     ]
    }
   ],
   "source": [
    "add = lambda x, y : x + y\n",
    "\n",
    "print(add(3, 5))"
   ]
  },
  {
   "cell_type": "code",
   "execution_count": 12,
   "metadata": {},
   "outputs": [
    {
     "name": "stdout",
     "output_type": "stream",
     "text": [
      "[(13, -3), (4, 1), (1, 2), (9, 10)]\n",
      "[(1, 2), (4, 1), (9, 10), (13, -3)]\n"
     ]
    }
   ],
   "source": [
    "# List sorting\n",
    "\n",
    "a = [(1, 2),(4, 1),(9, 10),(13, -3)]\n",
    "\n",
    "a.sort(key=lambda x:x[1])\n",
    "\n",
    "print(a)\n",
    "\n",
    "a.sort(key=lambda x:x[0])\n",
    "\n",
    "print(a)"
   ]
  },
  {
   "cell_type": "markdown",
   "metadata": {},
   "source": [
    "## ` set ` Data Structure"
   ]
  },
  {
   "cell_type": "code",
   "execution_count": 14,
   "metadata": {},
   "outputs": [
    {
     "name": "stdout",
     "output_type": "stream",
     "text": [
      "['n']\n"
     ]
    }
   ],
   "source": [
    "some_list = ['a', 'b', 'c', 'd', 'm', 'n', 'n']\n",
    "\n",
    "duplicates = []\n",
    "\n",
    "for value in some_list:\n",
    "    \n",
    "    if some_list.count(value) > 1:\n",
    "        \n",
    "        if value not in duplicates:\n",
    "            \n",
    "            duplicates.append(value)\n",
    "            \n",
    "print(duplicates)"
   ]
  },
  {
   "cell_type": "code",
   "execution_count": 15,
   "metadata": {},
   "outputs": [
    {
     "name": "stdout",
     "output_type": "stream",
     "text": [
      "{'n', 'b'}\n"
     ]
    }
   ],
   "source": [
    "some_list = ['a', 'b', 'c', 'b', 'd', 'm', 'n', 'n']\n",
    "\n",
    "duplicates = set([x for x in some_list if some_list.count(x) > 1])\n",
    "\n",
    "print(duplicates)"
   ]
  },
  {
   "cell_type": "code",
   "execution_count": 22,
   "metadata": {},
   "outputs": [
    {
     "name": "stdout",
     "output_type": "stream",
     "text": [
      "{'red'}\n",
      "{'brown'}\n",
      "<class 'set'>\n"
     ]
    }
   ],
   "source": [
    "valid = set(['yellow', 'red', 'blue', 'green', 'black'])\n",
    "\n",
    "input_set = set(['red', 'brown'])\n",
    "\n",
    "# Intersection\n",
    "\n",
    "print(input_set.intersection(valid))\n",
    "\n",
    "\n",
    "# Difference\n",
    "\n",
    "print(input_set.difference(valid))\n",
    "\n",
    "a_set = {'red', 'blue', 'green'}\n",
    "\n",
    "print(type(a_set))"
   ]
  },
  {
   "cell_type": "markdown",
   "metadata": {},
   "source": [
    "## Map, Filter and Reduce"
   ]
  },
  {
   "cell_type": "code",
   "execution_count": 25,
   "metadata": {},
   "outputs": [
    {
     "name": "stdout",
     "output_type": "stream",
     "text": [
      "[1, 4, 9, 16, 25]\n"
     ]
    }
   ],
   "source": [
    "items = [1, 2, 3, 4, 5]\n",
    "\n",
    "squared = []\n",
    "\n",
    "for i in items:\n",
    "    \n",
    "    squared.append(i**2)\n",
    "    \n",
    "print(squared)\n",
    "\n",
    "# A nicer way\n",
    "\n",
    "items = [1, 2, 3, 4, 5]\n",
    "\n",
    "squared = list(map(lambda x:x**2, items))"
   ]
  },
  {
   "cell_type": "code",
   "execution_count": 27,
   "metadata": {},
   "outputs": [
    {
     "name": "stdout",
     "output_type": "stream",
     "text": [
      "[0, 0]\n",
      "[1, 2]\n",
      "[4, 4]\n",
      "[9, 6]\n",
      "[16, 8]\n"
     ]
    }
   ],
   "source": [
    "def multiply(x):\n",
    "    \n",
    "    return (x*x)\n",
    "\n",
    "def add(x):\n",
    "    \n",
    "    return (x + x)\n",
    "\n",
    "funcs = [multiply, add]\n",
    "\n",
    "for i in range(5):\n",
    "    \n",
    "    value = list(map(lambda x:x(i), funcs))\n",
    "    \n",
    "    print(value)"
   ]
  },
  {
   "cell_type": "code",
   "execution_count": 29,
   "metadata": {},
   "outputs": [
    {
     "name": "stdout",
     "output_type": "stream",
     "text": [
      "[-5, -4, -3, -2, -1]\n"
     ]
    }
   ],
   "source": [
    "# Filter  \n",
    "\n",
    "number_list = range(-5, 5)\n",
    "\n",
    "less_than_zero = list(filter(lambda x:x < 0, number_list))\n",
    "\n",
    "print(less_than_zero)"
   ]
  },
  {
   "cell_type": "code",
   "execution_count": 33,
   "metadata": {},
   "outputs": [
    {
     "name": "stdout",
     "output_type": "stream",
     "text": [
      "24\n",
      "24\n"
     ]
    }
   ],
   "source": [
    "# Reduce\n",
    "\n",
    "product = 1\n",
    "\n",
    "list = [1, 2, 3, 4]\n",
    "\n",
    "for num in list:\n",
    "    \n",
    "    product = product * num\n",
    "    \n",
    "print(product)\n",
    "\n",
    "from functools import reduce\n",
    "\n",
    "product = reduce((lambda x, y: x * y), [1, 2, 3, 4])\n",
    "\n",
    "print(product)"
   ]
  },
  {
   "cell_type": "markdown",
   "metadata": {},
   "source": [
    "- Comprehensions\n",
    "\n",
    "## Comprehensions\n",
    "\n",
    "### `list` comprehensions"
   ]
  },
  {
   "cell_type": "code",
   "execution_count": 37,
   "metadata": {},
   "outputs": [
    {
     "name": "stdout",
     "output_type": "stream",
     "text": [
      "[0, 3, 6, 9, 12, 15, 18, 21, 24, 27]\n",
      "[0, 1, 4, 9, 16, 25, 36, 49, 64, 81]\n"
     ]
    }
   ],
   "source": [
    "multiples = [i for i in range(30) if i % 3 == 0]\n",
    "\n",
    "print(multiples)\n",
    "\n",
    "squared = [x**2 for x in range(10)]\n",
    "\n",
    "print(squared)"
   ]
  },
  {
   "cell_type": "markdown",
   "metadata": {},
   "source": [
    "### `dict` comprehensions"
   ]
  },
  {
   "cell_type": "code",
   "execution_count": 39,
   "metadata": {},
   "outputs": [
    {
     "name": "stdout",
     "output_type": "stream",
     "text": [
      "{'a': 17, 'b': 34, 'z': 3}\n"
     ]
    }
   ],
   "source": [
    "mcase = {'a':10, 'b':34, 'A':7, 'Z':3}\n",
    "\n",
    "mcase_frequency = {\n",
    "    \n",
    "    k.lower(): mcase.get(k.lower(), 0) + mcase.get(k.upper(), 0)\n",
    "    \n",
    "    for k in mcase.keys()\n",
    "}\n",
    "\n",
    "print(mcase_frequency)"
   ]
  },
  {
   "cell_type": "markdown",
   "metadata": {},
   "source": [
    "### `set` comprehensions"
   ]
  },
  {
   "cell_type": "code",
   "execution_count": 40,
   "metadata": {},
   "outputs": [
    {
     "name": "stdout",
     "output_type": "stream",
     "text": [
      "{1, 4}\n"
     ]
    }
   ],
   "source": [
    "squared = {x**2 for x in [1, 1, 2]}\n",
    "\n",
    "print(squared)"
   ]
  },
  {
   "cell_type": "markdown",
   "metadata": {},
   "source": [
    "### `generator` comprehensions"
   ]
  },
  {
   "cell_type": "code",
   "execution_count": 41,
   "metadata": {},
   "outputs": [
    {
     "name": "stdout",
     "output_type": "stream",
     "text": [
      "<generator object <genexpr> at 0x0000011D21BAA620>\n",
      "0\n",
      "3\n",
      "6\n",
      "9\n",
      "12\n",
      "15\n",
      "18\n",
      "21\n",
      "24\n",
      "27\n"
     ]
    }
   ],
   "source": [
    "multiples_gen = (i for i in range(30) if i % 3 == 0)\n",
    "\n",
    "print(multiples_gen)\n",
    "\n",
    "for x in multiples_gen:\n",
    "    \n",
    "    print(x)"
   ]
  }
 ],
 "metadata": {
  "kernelspec": {
   "display_name": "Python 3",
   "language": "python",
   "name": "python3"
  },
  "language_info": {
   "codemirror_mode": {
    "name": "ipython",
    "version": 3
   },
   "file_extension": ".py",
   "mimetype": "text/x-python",
   "name": "python",
   "nbconvert_exporter": "python",
   "pygments_lexer": "ipython3",
   "version": "3.6.5"
  }
 },
 "nbformat": 4,
 "nbformat_minor": 2
}

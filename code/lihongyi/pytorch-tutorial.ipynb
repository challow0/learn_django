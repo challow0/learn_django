{
 "cells": [
  {
   "cell_type": "markdown",
   "metadata": {},
   "source": [
    "## Pytorch tutorial"
   ]
  },
  {
   "cell_type": "code",
   "execution_count": 4,
   "metadata": {},
   "outputs": [],
   "source": [
    "import torch\n",
    "import torch.nn as nn\n",
    "import torch.nn.functional as F\n",
    "\n",
    "from mpl_toolkits.mplot3d import Axes3D\n",
    "import matplotlib.pyplot as plt\n",
    "\n",
    "import numpy as np\n",
    "\n",
    "torch.manual_seed(446)\n",
    "np.random.seed(446)"
   ]
  },
  {
   "cell_type": "markdown",
   "metadata": {},
   "source": [
    "## Tensors and relation to numpy\n",
    "By this point, we have worked with numpy quite a bit. PyTorch's basic building block, the `tensor` is similar to numpy's `ndarray`"
   ]
  },
  {
   "cell_type": "code",
   "execution_count": 5,
   "metadata": {},
   "outputs": [
    {
     "name": "stdout",
     "output_type": "stream",
     "text": [
      "x_numpy, x_torch\n",
      "[0.1 0.2 0.3] tensor([0.1000, 0.2000, 0.3000])\n",
      "\n",
      "to and from numpy and torch\n",
      "tensor([0.1000, 0.2000, 0.3000], dtype=torch.float64) [0.1 0.2 0.3]\n",
      "\n",
      "x+y\n",
      "[0.1 0.2 0.3] [3. 4. 5.] tensor([3.1000, 4.2000, 5.3000])\n",
      "\n",
      "norm\n",
      "0.37416573867739417 tensor(0.3742)\n",
      "\n",
      "mean along the 0th dimension\n",
      "[2. 3.] tensor([2., 3.])\n"
     ]
    }
   ],
   "source": [
    "# we create tensors in a similar way to numpy nd arrays\n",
    "x_numpy = np.array([0.1,  0.2, 0.3])\n",
    "x_torch = torch.tensor([0.1, 0.2, 0.3])\n",
    "print('x_numpy, x_torch')\n",
    "print(x_numpy, x_torch)\n",
    "print()\n",
    "\n",
    "# to and from numpy ,torch\n",
    "print('to and from numpy and torch')\n",
    "print(torch.from_numpy(x_numpy), x_torch.numpy())\n",
    "print()\n",
    "\n",
    "# we can do basic operations like +-*/\n",
    "y_numpy = np.array([3,4,5.])\n",
    "y_torch = torch.tensor([3,4,5.])\n",
    "print('x+y')\n",
    "print(x_numpy, y_numpy, x_torch + y_torch)\n",
    "print()\n",
    "\n",
    "# many funcitons that are in numpy are also in pytorch\n",
    "print('norm')\n",
    "print(np.linalg.norm(x_numpy), torch.norm(x_torch))\n",
    "print()\n",
    "\n",
    "#to apply an operation along a dimision\n",
    "# we use the dim keyword argument instead of axis\n",
    "print('mean along the 0th dimension')\n",
    "x_numpy = np.array([[1,2],[3,4.]])\n",
    "x_torch = torch.tensor([[1,2],[3,4.]])\n",
    "print(np.mean(x_numpy, axis=0), torch.mean(x_torch, dim=0))"
   ]
  },
  {
   "cell_type": "markdown",
   "metadata": {},
   "source": [
    "## Tensor.view()\n",
    "We can use the `Tensor.view()` function to reshape tensors similarly to `numpy.reshape()`\n",
    "\n",
    "It can also automatically calculate the correct dimension if a `-1` is passed in. This is useful if we are working with batches, but the batch size is unknown."
   ]
  },
  {
   "cell_type": "code",
   "execution_count": 6,
   "metadata": {},
   "outputs": [
    {
     "name": "stdout",
     "output_type": "stream",
     "text": [
      "torch.Size([10000, 3, 28, 28])\n",
      "torch.Size([10000, 3, 784])\n",
      "torch.Size([10000, 3, 784])\n"
     ]
    }
   ],
   "source": [
    "# \"MINST\"\n",
    "N, C, W, H = 10000, 3, 28, 28\n",
    "X = torch.randn((N, C, W, H))\n",
    "\n",
    "print(X.shape)\n",
    "print(X.view(N, C, 784).shape)\n",
    "print(X.view(-1, C, 784).shape) # automatically choose the 0th dimension"
   ]
  },
  {
   "cell_type": "markdown",
   "metadata": {},
   "source": [
    "### `BROADCASTING SEMANTICS`\n",
    "Two tensors are “broadcastable” if the following rules hold:\n",
    "\n",
    "Each tensor has at least one dimension.\n",
    "\n",
    "When iterating over the dimension sizes, starting at the trailing dimension, the dimension sizes must either be equal, one of them is 1, or one of them does not exist."
   ]
  },
  {
   "cell_type": "code",
   "execution_count": 7,
   "metadata": {},
   "outputs": [
    {
     "name": "stdout",
     "output_type": "stream",
     "text": [
      "torch.Size([5, 3, 4, 1])\n"
     ]
    }
   ],
   "source": [
    "# PyTorch operations support NumPy Broadcasting Semantics.\n",
    "x=torch.empty(5,1,4,1)\n",
    "y=torch.empty(  3,1,1)\n",
    "print((x+y).size())"
   ]
  },
  {
   "cell_type": "markdown",
   "metadata": {},
   "source": [
    "## Computation graphs\n",
    "\n",
    "What's special about PyTorch's `tensor` object is that it implicitly creates a computation graph in the background. A computation graph is a a way of writing a mathematical expression as a graph. There is an algorithm to compute the gradients of all the variables of a computation graph in time on the same order it is to compute the function itself.\n",
    "\n",
    "Consider the expression $e=(a+b)*(b+1)$ with values $a=2, b=1$. We can draw the evaluated computation graph as\n",
    "<br>\n",
    "<br>\n",
    "\n",
    "In PyTorch, we can write this as\n",
    "![tree-img](https://colah.github.io/posts/2015-08-Backprop/img/tree-eval.png)\n",
    "\n",
    "[source](https://colah.github.io/posts/2015-08-Backprop/)"
   ]
  },
  {
   "cell_type": "code",
   "execution_count": 8,
   "metadata": {},
   "outputs": [
    {
     "name": "stdout",
     "output_type": "stream",
     "text": [
      "c tensor(3., grad_fn=<AddBackward0>)\n",
      "d tensor(2., grad_fn=<AddBackward0>)\n",
      "e tensor(6., grad_fn=<MulBackward0>)\n"
     ]
    }
   ],
   "source": [
    "a = torch.tensor(2.0, requires_grad=True) # we set requires_grad = True to let Pytorch know to keep the graph\n",
    "b = torch.tensor(1.0, requires_grad=True)\n",
    "\n",
    "c = a + b\n",
    "d = b + 1\n",
    "e = c * d\n",
    "print('c', c)\n",
    "print('d', d)\n",
    "print('e', e)"
   ]
  },
  {
   "cell_type": "markdown",
   "metadata": {},
   "source": [
    "## CUDA SEMANTICS\n",
    "It's easy cupy tensor from cpu to gpu or from gpu to cpu.\n"
   ]
  },
  {
   "cell_type": "code",
   "execution_count": 9,
   "metadata": {},
   "outputs": [
    {
     "name": "stdout",
     "output_type": "stream",
     "text": [
      "tensor([0.3959, 0.6177, 0.7256, 0.0971, 0.9186, 0.8277, 0.4409, 0.9344, 0.8967,\n",
      "        0.1897])\n",
      "tensor([0.3959, 0.6177, 0.7256, 0.0971, 0.9186, 0.8277, 0.4409, 0.9344, 0.8967,\n",
      "        0.1897])\n",
      "tensor([0.3959, 0.6177, 0.7256, 0.0971, 0.9186, 0.8277, 0.4409, 0.9344, 0.8967,\n",
      "        0.1897], device='cuda:0')\n"
     ]
    }
   ],
   "source": [
    "cpu = torch.device(\"cpu\")\n",
    "gpu = torch.device(\"cuda\")\n",
    "\n",
    "x = torch.rand(10)\n",
    "print(x)\n",
    "x = x.to(cpu)\n",
    "print(x)\n",
    "x = x.to(gpu)\n",
    "print(x)"
   ]
  },
  {
   "cell_type": "markdown",
   "metadata": {},
   "source": [
    "## PyTorch as an auto grad framework\n",
    "\n",
    "Now that we have seen that PyTorch keeps the graph around for us, let's use it to compute some gradients for us.\n",
    "\n",
    "Consider the function $f(x) = (x-2)^2$.\n",
    "\n",
    "Q: Compute $\\frac{d}{dx} f(x)$ and then compute $f'(1)$.\n",
    "\n",
    "We make a `backward()` call on the leaf variable (`y`) in the computation, computing all the gradients of `y` at once."
   ]
  },
  {
   "cell_type": "code",
   "execution_count": 10,
   "metadata": {},
   "outputs": [
    {
     "name": "stdout",
     "output_type": "stream",
     "text": [
      "Analytical f'(x): tensor([-2.], grad_fn=<MulBackward0>)\n",
      "PyTorch's f'(x): tensor([-2.])\n"
     ]
    }
   ],
   "source": [
    "def f(x):\n",
    "    return (x - 2) ** 2\n",
    "def fp(x):\n",
    "    return 2*(x - 2)\n",
    "\n",
    "x = torch.tensor([1.0], requires_grad=True)\n",
    "\n",
    "y = f(x)\n",
    "y.backward()\n",
    "\n",
    "print('Analytical f\\'(x):', fp(x))\n",
    "print('PyTorch\\'s f\\'(x):', x.grad)"
   ]
  },
  {
   "cell_type": "markdown",
   "metadata": {},
   "source": [
    "It can also find gradients of functions.\n",
    "\n",
    "Let $w = [w_1, w_2]^T$\n",
    "\n",
    "Consider $g(w) = 2w_1w_2 + w_2\\cos(w_1)$\n",
    "\n",
    "Q: Compute $\\nabla_w g(w)$ and verify $\\nabla_w g([\\pi,1]) = [2, \\pi - 1]^T$"
   ]
  },
  {
   "cell_type": "code",
   "execution_count": 11,
   "metadata": {},
   "outputs": [
    {
     "name": "stdout",
     "output_type": "stream",
     "text": [
      "Analytical grad g(w) tensor([2.0000, 5.2832])\n",
      "PyTorch's grad g(w) tensor([2.0000, 5.2832])\n"
     ]
    }
   ],
   "source": [
    "def g(w):\n",
    "    return 2*w[0]*w[1] + w[1]*torch.cos(w[0])\n",
    "\n",
    "def grad_g(w):\n",
    "    return torch.tensor([2*w[1] - w[1]*torch.sin(w[0]), 2*w[0] + torch.cos(w[0])])\n",
    "\n",
    "w = torch.tensor([np.pi, 1], requires_grad=True)\n",
    "\n",
    "z = g(w)\n",
    "z.backward()\n",
    "\n",
    "print('Analytical grad g(w)', grad_g(w))\n",
    "print('PyTorch\\'s grad g(w)', w.grad)"
   ]
  },
  {
   "cell_type": "markdown",
   "metadata": {},
   "source": [
    "## Using the gradients\n",
    "Now that we have gradients, we can use our favorite optimization algorithm: gradient descent!\n",
    "\n",
    "Let $f$ the same function we defined above.\n",
    "\n",
    "Q: What is the value of $x$ that minimizes $f$?"
   ]
  },
  {
   "cell_type": "code",
   "execution_count": 12,
   "metadata": {},
   "outputs": [
    {
     "name": "stdout",
     "output_type": "stream",
     "text": [
      "iter,\tx,\tf(x),\tf'(x),\tf'(x) pytorch\n",
      "0,\t5.000,\t9.000,\t6.000,\t6.000\n",
      "1,\t3.500,\t2.250,\t3.000,\t3.000\n",
      "2,\t2.750,\t0.562,\t1.500,\t1.500\n",
      "3,\t2.375,\t0.141,\t0.750,\t0.750\n",
      "4,\t2.188,\t0.035,\t0.375,\t0.375\n",
      "5,\t2.094,\t0.009,\t0.188,\t0.188\n",
      "6,\t2.047,\t0.002,\t0.094,\t0.094\n",
      "7,\t2.023,\t0.001,\t0.047,\t0.047\n",
      "8,\t2.012,\t0.000,\t0.023,\t0.023\n",
      "9,\t2.006,\t0.000,\t0.012,\t0.012\n",
      "10,\t2.003,\t0.000,\t0.006,\t0.006\n",
      "11,\t2.001,\t0.000,\t0.003,\t0.003\n",
      "12,\t2.001,\t0.000,\t0.001,\t0.001\n",
      "13,\t2.000,\t0.000,\t0.001,\t0.001\n",
      "14,\t2.000,\t0.000,\t0.000,\t0.000\n"
     ]
    }
   ],
   "source": [
    "x = torch.tensor([5.0], requires_grad=True)\n",
    "step_size = 0.25\n",
    "\n",
    "print('iter,\\tx,\\tf(x),\\tf\\'(x),\\tf\\'(x) pytorch')\n",
    "for i in range(15):\n",
    "    y = f(x)\n",
    "    y.backward() # compute the gradient\n",
    "    \n",
    "    print('{},\\t{:.3f},\\t{:.3f},\\t{:.3f},\\t{:.3f}'.format(i, x.item(), f(x).item(), fp(x).item(), x.grad.item()))\n",
    "    \n",
    "    x.data = x.data - step_size * x.grad # perform a GD update step\n",
    "    \n",
    "    # We need to zero the grad variable since the backward()\n",
    "    # call accumulates the gradients in .grad instead of overwriting.\n",
    "    # The detach_() is for efficiency. You do not need to worry too much about it.\n",
    "    x.grad.detach_()\n",
    "    x.grad.zero_()"
   ]
  },
  {
   "cell_type": "markdown",
   "metadata": {},
   "source": [
    "# Linear Regression\n",
    "\n",
    "Now, instead of minimizing a made-up function, lets minimize a loss function on some made-up data.\n",
    "\n",
    "We will implement Gradient Descent in order to solve the task of linear regression."
   ]
  },
  {
   "cell_type": "code",
   "execution_count": 13,
   "metadata": {},
   "outputs": [
    {
     "name": "stdout",
     "output_type": "stream",
     "text": [
      "X shape torch.Size([50, 2])\n",
      "y shape torch.Size([50, 1])\n",
      "w shape torch.Size([2, 1])\n"
     ]
    }
   ],
   "source": [
    "# make a simple linear dataset with some noise\n",
    "\n",
    "d = 2\n",
    "n = 50\n",
    "X = torch.randn(n, d)\n",
    "true_w = torch.tensor([[-1.0],[2.0]])\n",
    "y = X @ true_w + torch.randn(n, 1) * 0.1\n",
    "\n",
    "# print(X)\n",
    "\n",
    "# print(true_w)\n",
    "\n",
    "# print(y)\n",
    "\n",
    "print('X shape', X.shape)\n",
    "print('y shape', y.shape)\n",
    "print('w shape', true_w.shape)"
   ]
  },
  {
   "cell_type": "markdown",
   "metadata": {},
   "source": [
    "### Note: dimensions\n",
    "PyTorch does a lot of operations on batches of data. The convention is to have your data be of size $(N, d)$ where $N$ is the size of the batch of data."
   ]
  },
  {
   "cell_type": "markdown",
   "metadata": {},
   "source": [
    "### Sanity check\n",
    "To verify PyTorch is computing the gradients correctly, let's recall the gradient for the RSS objective:\n",
    "\n",
    "$$\\nabla_w \\mathcal{L}_{RSS}(w; X) = \\nabla_w\\frac{1}{n} ||y - Xw||_2^2 = -\\frac{2}{n}X^T(y-Xw)$$"
   ]
  },
  {
   "cell_type": "code",
   "execution_count": 14,
   "metadata": {},
   "outputs": [
    {
     "name": "stdout",
     "output_type": "stream",
     "text": [
      "Analytical gradient [ 4.342543  -3.5023162]\n",
      "PyTorch's gradient [ 4.342543 -3.502316]\n"
     ]
    }
   ],
   "source": [
    "# define a linear model with no bias\n",
    "def model(X, w):\n",
    "    return X @ w\n",
    "\n",
    "# the residual sum of squares loss function\n",
    "def rss(y, y_hat):\n",
    "    return torch.norm(y - y_hat)**2 / n\n",
    "\n",
    "# analytical expression for the gradient\n",
    "def grad_rss(X, y, w):\n",
    "    return -2*X.t() @ (y - X @ w) / n\n",
    "\n",
    "w = torch.tensor([[1.],[0]], requires_grad=True)\n",
    "y_hat = model(X, w)\n",
    "\n",
    "loss = rss(y, y_hat)\n",
    "loss.backward()\n",
    "\n",
    "print('Analytical gradient', grad_rss(X, y, w).detach().view(2).numpy())\n",
    "print('PyTorch\\'s gradient', w.grad.view(2).numpy())"
   ]
  },
  {
   "cell_type": "markdown",
   "metadata": {},
   "source": [
    "Now that we've seen PyTorch is doing the right think, let's use the gradients!\n",
    "\n",
    "## Linear regression using GD with automatically computed derivatives\n",
    "\n",
    "We will now use the gradients to run the gradient descent algorithm.\n",
    "\n",
    "Note: This example is an illustration to connect ideas we have seen before to PyTorch's way of doing things. We will see how to do this in the \"PyTorchic\" way in the next example."
   ]
  },
  {
   "cell_type": "code",
   "execution_count": 15,
   "metadata": {},
   "outputs": [
    {
     "name": "stdout",
     "output_type": "stream",
     "text": [
      "iter,\tloss,\tw\n",
      "0,\t7.82,\t[0.13149136 0.70046324]\n",
      "1,\t2.84,\t[-0.11822014  0.9229876 ]\n",
      "2,\t1.84,\t[-0.31444427  1.1054724 ]\n",
      "3,\t1.19,\t[-0.4684834  1.2552956]\n",
      "4,\t0.77,\t[-0.58927345  1.3784461 ]\n",
      "5,\t0.50,\t[-0.68387645  1.4797904 ]\n",
      "6,\t0.33,\t[-0.75787055  1.563287  ]\n",
      "7,\t0.22,\t[-0.8156596  1.632159 ]\n",
      "8,\t0.15,\t[-0.86071837  1.6890337 ]\n",
      "9,\t0.10,\t[-0.89578694  1.736055  ]\n",
      "10,\t0.07,\t[-0.9230244  1.7749742]\n",
      "11,\t0.05,\t[-0.94413096  1.8072236 ]\n",
      "12,\t0.03,\t[-0.9604442  1.8339758]\n",
      "13,\t0.02,\t[-0.9730157  1.8561921]\n",
      "14,\t0.02,\t[-0.9826713  1.8746614]\n",
      "15,\t0.01,\t[-0.99005884  1.8900318 ]\n",
      "16,\t0.01,\t[-0.99568594  1.9028363 ]\n",
      "17,\t0.01,\t[-0.99994993  1.913514  ]\n",
      "18,\t0.01,\t[-1.0031612  1.9224268]\n",
      "19,\t0.01,\t[-1.0055621  1.9298735]\n",
      "\n",
      "true w\t\t [-1.  2.]\n",
      "estimated w\t [-1.0055621  1.9298735]\n"
     ]
    }
   ],
   "source": [
    "step_size = 0.1\n",
    "\n",
    "print('iter,\\tloss,\\tw')\n",
    "for i in range (20):\n",
    "    y_hat = model(X, w)\n",
    "    loss = rss(y, y_hat)\n",
    "    \n",
    "    loss.backward() # compute the gradient of the loss\n",
    "    \n",
    "    w.data = w.data - step_size * w.grad # do a gradient descent step\n",
    "    \n",
    "    print('{},\\t{:.2f},\\t{}'.format(i, loss.item(), w.view(2).detach().numpy()))\n",
    "\n",
    "    # We need to zero the grad variable since the backward()\n",
    "    # call accumulates the gradients in .grad instead of overwriting\n",
    "    # The detach_() is for efficiency. \n",
    "    w.grad.detach()\n",
    "    w.grad.zero_()\n",
    "    \n",
    "print('\\ntrue w\\t\\t', true_w.view(2).numpy())\n",
    "print('estimated w\\t', w.view(2).detach().numpy())"
   ]
  },
  {
   "cell_type": "markdown",
   "metadata": {},
   "source": [
    "## torch.nn.Module\n",
    "\n",
    "`Module` is PyTorch's way of performing operations on tensors. Modules are implemented as subclasses of the `torch.nn.Module` class. All modules are callable and can be composed together to create complex functions.\n",
    "\n",
    "[`torch.nn` docs](https://pytorch.org/docs/stable/nn.html)\n",
    "\n",
    "Note: most of the functionality implemented for modules can be accessed in a functional form via `torch.nn.functional`, but these require you to create and manage the weight tensors yourself.\n",
    "\n",
    "[`torch.nn.functional` docs](https://pytorch.org/docs/stable/nn.html#torch-nn-functional)."
   ]
  },
  {
   "cell_type": "markdown",
   "metadata": {},
   "source": [
    "### Linear Module\n",
    "The bread and butter of modules is the Linear module which does a linear transformation with a bias. It takes the input and output dimensions as parameters, and creates the weights in the object.Applies a linear transformation to the incoming data:$y = x*W^T + b$\n",
    "\n",
    "Unlike how we initialized our $w$ manually, the Linear module automatically initializes the weights randomly. For minimizing non convex loss functions (e.g. training neural networks), initialization is important and can affect results. If training isn't working as well as expected, one thing to try is manually initializing the weights to something different from the default. PyTorch implements some common initializations in `torch.nn.init`.\n",
    "\n",
    "[`torch.nn.init` docs](https://pytorch.org/docs/stable/nn.html#torch-nn-init)"
   ]
  },
  {
   "cell_type": "code",
   "execution_count": 25,
   "metadata": {},
   "outputs": [
    {
     "name": "stdout",
     "output_type": "stream",
     "text": [
      "example_tensor torch.Size([2, 3])\n",
      "transormed torch.Size([2, 4])\n",
      "\n",
      "We can see that the weights exist in the background\n",
      "\n",
      "W: Parameter containing:\n",
      "tensor([[-0.4120, -0.5628,  0.0406],\n",
      "        [ 0.0687, -0.2539,  0.5729],\n",
      "        [ 0.0311,  0.5037, -0.4076],\n",
      "        [-0.4908, -0.2313, -0.4044]], requires_grad=True)\n",
      "b: Parameter containing:\n",
      "tensor([-0.1508, -0.3972, -0.1421,  0.1452], requires_grad=True)\n",
      "transformed:  tensor([[-1.5664,  0.8825, -0.3263, -2.0214],\n",
      "        [-4.3687,  2.0457,  0.0555, -5.4009]], grad_fn=<AddmmBackward>)\n"
     ]
    }
   ],
   "source": [
    "d_in = 3\n",
    "d_out = 4\n",
    "linear_module = nn.Linear(d_in, d_out)\n",
    "\n",
    "example_tensor = torch.tensor([[1.,2.,3],[4,5,6]])\n",
    "# applys a linear transformation to the data\n",
    "transformed = linear_module(example_tensor)\n",
    "print('example_tensor', example_tensor.shape)\n",
    "print('transormed', transformed.shape)\n",
    "\n",
    "print()\n",
    "print('We can see that the weights exist in the background\\n')\n",
    "print('W:', linear_module.weight)\n",
    "print('b:', linear_module.bias)\n",
    "print('transformed: ', transformed)"
   ]
  },
  {
   "cell_type": "markdown",
   "metadata": {},
   "source": [
    "### Activation functions\n",
    "PyTorch implements a number of activation functions including but not limited to `ReLU`, `Tanh`, and `Sigmoid`. Since they are modules, they need to be instantiated."
   ]
  },
  {
   "cell_type": "code",
   "execution_count": 19,
   "metadata": {},
   "outputs": [
    {
     "name": "stdout",
     "output_type": "stream",
     "text": [
      "example_tensor tensor([-1.,  1.,  0.])\n",
      "activated tensor([0., 1., 0.])\n"
     ]
    }
   ],
   "source": [
    "activation_fn = nn.ReLU() # we instantiate an instanve of the RELU module\n",
    "example_tensor = torch.tensor([-1.0, 1.0, 0.0])\n",
    "activated = activation_fn(example_tensor)\n",
    "print('example_tensor', example_tensor)\n",
    "print('activated', activated)"
   ]
  },
  {
   "cell_type": "markdown",
   "metadata": {},
   "source": [
    "### Sequential\n",
    "\n",
    "Many times, we want to compose Modules together. `torch.nn.Sequential` provides a good interface for composing simple modules."
   ]
  },
  {
   "cell_type": "code",
   "execution_count": 26,
   "metadata": {},
   "outputs": [
    {
     "name": "stdout",
     "output_type": "stream",
     "text": [
      "transformed torch.Size([2, 1])\n"
     ]
    }
   ],
   "source": [
    "d_in = 3\n",
    "d_hidden = 4\n",
    "d_out = 1\n",
    "model = torch.nn.Sequential(\n",
    "                            nn.Linear(d_in, d_hidden),\n",
    "                            nn.Tanh(),\n",
    "                            nn.Linear(d_hidden, d_out),\n",
    "                            nn.Sigmoid()\n",
    "                            )\n",
    "\n",
    "example_tensor = torch.tensor([[1.,2,3],[4,5,6]])\n",
    "transformed = model(example_tensor)\n",
    "print('transformed', transformed.shape)\n"
   ]
  },
  {
   "cell_type": "markdown",
   "metadata": {},
   "source": [
    "Note: we can access *all* of the parameters (of any `nn.Module`) with the `parameters()` method.\n",
    "\n",
    "> Indented block"
   ]
  },
  {
   "cell_type": "code",
   "execution_count": 28,
   "metadata": {},
   "outputs": [
    {
     "name": "stdout",
     "output_type": "stream",
     "text": [
      "Parameter containing:\n",
      "tensor([[-0.1872,  0.1108, -0.3481],\n",
      "        [-0.1873, -0.2093, -0.4887],\n",
      "        [ 0.3277,  0.1126, -0.1475],\n",
      "        [-0.2621,  0.3482,  0.3207]], requires_grad=True)\n",
      "Parameter containing:\n",
      "tensor([-0.5267,  0.2671,  0.4849,  0.3677], requires_grad=True)\n",
      "Parameter containing:\n",
      "tensor([[-0.4679, -0.4301,  0.1798,  0.0792]], requires_grad=True)\n",
      "Parameter containing:\n",
      "tensor([0.0689], requires_grad=True)\n"
     ]
    }
   ],
   "source": [
    "params = model.parameters()\n",
    "\n",
    "for param in params:\n",
    "    print(param)"
   ]
  },
  {
   "cell_type": "markdown",
   "metadata": {},
   "source": [
    "### Loss functions\n",
    "PyTorch implements many common loss functions including `MSELoss` and `CrossEntropyLoss`."
   ]
  },
  {
   "cell_type": "code",
   "execution_count": 30,
   "metadata": {},
   "outputs": [
    {
     "name": "stdout",
     "output_type": "stream",
     "text": [
      "tensor(0.6667)\n"
     ]
    }
   ],
   "source": [
    "mse_loss_fn = nn.MSELoss()\n",
    "\n",
    "input = torch.tensor([0., 0, 0])\n",
    "target = torch.tensor([1., 0, -1])\n",
    "\n",
    "loss = mse_loss_fn(input, target)\n",
    "\n",
    "print(loss)"
   ]
  },
  {
   "cell_type": "markdown",
   "metadata": {},
   "source": [
    "## torch.optim\n",
    "PyTorch implements a number of gradient-based optimization methods in `torch.optim`, including Gradient Descent. At the minimum, it takes in the model parameters and a learning rate.\n",
    "\n",
    "Optimizers do not compute the gradients for you, so you must call `backward()` yourself. You also must call the `optim.zero_grad()` function before calling `backward()` since by default PyTorch does and inplace add to the `.grad` member variable rather than overwriting it.\n",
    "\n",
    "This does both the `detach_()` and `zero_()` calls on all tensor's `grad` variables.\n",
    "\n",
    "[`torch.optim` docs](https://pytorch.org/docs/stable/optim.html)"
   ]
  },
  {
   "cell_type": "code",
   "execution_count": 35,
   "metadata": {},
   "outputs": [
    {
     "name": "stdout",
     "output_type": "stream",
     "text": [
      "model params before: Parameter containing:\n",
      "tensor([[-0.5663]], requires_grad=True)\n",
      "model params after: Parameter containing:\n",
      "tensor([[-0.5307]], requires_grad=True)\n"
     ]
    }
   ],
   "source": [
    "# create a simple model\n",
    "model = nn.Linear(1, 1)\n",
    "\n",
    "# create a simple dataset\n",
    "X_simple = torch.tensor([[1.]])\n",
    "y_simple = torch.tensor([[2.]])\n",
    "\n",
    "# create our optimizer\n",
    "optim = torch.optim.SGD(model.parameters(), lr=1e-2)\n",
    "mse_loss_fn = nn.MSELoss()\n",
    "\n",
    "y_hat = model(X_simple)\n",
    "print('model params before:', model.weight)\n",
    "loss = mse_loss_fn(y_hat, y_simple)\n",
    "optim.zero_grad()\n",
    "loss.backward()\n",
    "optim.step()\n",
    "print('model params after:', model.weight)"
   ]
  },
  {
   "cell_type": "markdown",
   "metadata": {},
   "source": [
    "As we can see, the parameter was updated in the correct direction"
   ]
  },
  {
   "cell_type": "markdown",
   "metadata": {},
   "source": [
    "## Linear regression using GD with automatically computed derivatives and PyTorch's Modules\n",
    "\n",
    "Now let's combine what we've learned to solve linear regression in a \"PyTorchic\" way."
   ]
  },
  {
   "cell_type": "code",
   "execution_count": 38,
   "metadata": {},
   "outputs": [
    {
     "name": "stdout",
     "output_type": "stream",
     "text": [
      "iter, \tloss, \tw\n",
      "0,\t7.36,\t[0.19621012 0.04324776]\n",
      "1,\t4.82,\t[-0.07951117  0.3703955 ]\n",
      "2,\t3.17,\t[-0.29452378  0.64053035]\n",
      "3,\t2.09,\t[-0.46189028  0.8638445 ]\n",
      "4,\t1.38,\t[-0.5919047  1.0486634]\n",
      "5,\t0.92,\t[-0.69267327  1.2017952 ]\n",
      "6,\t0.62,\t[-0.77057433  1.3288136 ]\n",
      "7,\t0.42,\t[-0.83062226  1.4342866 ]\n",
      "8,\t0.28,\t[-0.8767553  1.5219631]\n",
      "9,\t0.19,\t[-0.91206336  1.5949224 ]\n",
      "10,\t0.13,\t[-0.9389678  1.6556973]\n",
      "11,\t0.09,\t[-0.9593638  1.7063736]\n",
      "12,\t0.07,\t[-0.9747326  1.7486705]\n",
      "13,\t0.05,\t[-0.9862299  1.784007 ]\n",
      "14,\t0.03,\t[-0.99475616  1.8135557 ]\n",
      "15,\t0.03,\t[-1.0010114  1.8382869]\n",
      "16,\t0.02,\t[-1.0055386  1.8590035]\n",
      "17,\t0.02,\t[-1.0087581  1.876372 ]\n",
      "18,\t0.01,\t[-1.0109942  1.8909448]\n",
      "19,\t0.01,\t[-1.0124965  1.9031817]\n",
      "\n",
      "true w\t\t [-1.  2.]\n",
      "estimated w\t [-1.0124965  1.9031817]\n"
     ]
    }
   ],
   "source": [
    "step_size = 0.1\n",
    "\n",
    "linear_module = nn.Linear(d, 1, bias=False)\n",
    "\n",
    "loss_func = nn.MSELoss()\n",
    "\n",
    "optim = torch.optim.SGD(linear_module.parameters(), lr = step_size)\n",
    "\n",
    "print('iter, \\tloss, \\tw')\n",
    "\n",
    "for i in range(20):\n",
    "    y_hat = linear_module(X)\n",
    "    loss = loss_func(y_hat, y)\n",
    "    optim.zero_grad()\n",
    "    loss.backward()\n",
    "    optim.step()\n",
    "    \n",
    "    print('{},\\t{:.2f},\\t{}'.format(i, loss.item(), linear_module.weight.view(2).detach().numpy()))\n",
    "\n",
    "print('\\ntrue w\\t\\t', true_w.view(2).numpy())\n",
    "print('estimated w\\t', linear_module.weight.view(2).detach().numpy())"
   ]
  },
  {
   "cell_type": "markdown",
   "metadata": {},
   "source": [
    "## Linear regression using SGD \n",
    "In the previous examples, we computed the average gradient over the entire dataset (Gradient Descent). We can implement Stochastic Gradient Descent with a simple modification.\n",
    "**This method can converge faster**"
   ]
  },
  {
   "cell_type": "code",
   "execution_count": 39,
   "metadata": {},
   "outputs": [
    {
     "name": "stdout",
     "output_type": "stream",
     "text": [
      "iter,\tloss,\tw\n",
      "0,\t6.13,\t[0.611126  0.5094868]\n",
      "20,\t1.84,\t[0.23922716 0.75053847]\n",
      "40,\t2.44,\t[-0.06429704  1.0882884 ]\n",
      "60,\t1.07,\t[-0.36861372  1.4711628 ]\n",
      "80,\t0.33,\t[-0.5624167  1.6115321]\n",
      "100,\t0.19,\t[-0.7107796  1.7370073]\n",
      "120,\t0.04,\t[-0.8086163  1.8273939]\n",
      "140,\t0.00,\t[-0.868013   1.8886096]\n",
      "160,\t0.00,\t[-0.9196269  1.916039 ]\n",
      "180,\t0.00,\t[-0.9537787  1.9208765]\n",
      "\n",
      "true w\t\t [-1.  2.]\n",
      "estimated w\t [-0.96084064  1.9440075 ]\n"
     ]
    }
   ],
   "source": [
    "step_size = 0.01\n",
    "\n",
    "linear_module = nn.Linear(d, 1)\n",
    "loss_func = nn.MSELoss()\n",
    "optim = torch.optim.SGD(linear_module.parameters(), lr=step_size)\n",
    "print('iter,\\tloss,\\tw')\n",
    "for i in range(200):\n",
    "    rand_idx = np.random.choice(n) # take a random point from the dataset\n",
    "    x = X[rand_idx] \n",
    "    y_hat = linear_module(x)\n",
    "    loss = loss_func(y_hat, y[rand_idx]) # only compute the loss on the single point\n",
    "    optim.zero_grad()\n",
    "    loss.backward()\n",
    "    optim.step()\n",
    "    \n",
    "    if i % 20 == 0:\n",
    "        print('{},\\t{:.2f},\\t{}'.format(i, loss.item(), linear_module.weight.view(2).detach().numpy()))\n",
    "\n",
    "print('\\ntrue w\\t\\t', true_w.view(2).numpy())\n",
    "print('estimated w\\t', linear_module.weight.view(2).detach().numpy())"
   ]
  },
  {
   "cell_type": "markdown",
   "metadata": {},
   "source": [
    "# Neural Network Basics in PyTorch\n",
    "We will try and fit a simple neural network to the data."
   ]
  },
  {
   "cell_type": "code",
   "execution_count": 41,
   "metadata": {},
   "outputs": [
    {
     "data": {
      "image/png": "[encoded data removed]",
      "text/plain": [
       "<Figure size 432x288 with 1 Axes>"
      ]
     },
     "metadata": {},
     "output_type": "display_data"
    }
   ],
   "source": [
    "%matplotlib inline\n",
    "\n",
    "d = 1\n",
    "n = 200\n",
    "X = torch.rand(n,d)\n",
    "y = 4 * torch.sin(np.pi * X) * torch.cos(6*np.pi*X**2)\n",
    "\n",
    "plt.scatter(X.numpy(), y.numpy())\n",
    "plt.title('plot of $f(x)$')\n",
    "plt.xlabel('$x$')\n",
    "plt.ylabel('$y$')\n",
    "\n",
    "plt.show()"
   ]
  },
  {
   "cell_type": "markdown",
   "metadata": {},
   "source": [
    "Here we define a simple two hidden layer neural network with Tanh activations. There are a few hyper parameters to play with to get a feel for how they change the results."
   ]
  },
  {
   "cell_type": "code",
   "execution_count": 51,
   "metadata": {},
   "outputs": [
    {
     "name": "stdout",
     "output_type": "stream",
     "text": [
      "iter,\tloss\n",
      "0,\t3.78\n",
      "600,\t3.40\n",
      "1200,\t2.21\n",
      "1800,\t1.19\n",
      "2400,\t0.86\n",
      "3000,\t0.47\n",
      "3600,\t0.27\n",
      "4200,\t0.15\n",
      "4800,\t0.11\n",
      "5400,\t0.11\n"
     ]
    }
   ],
   "source": [
    "# feel free to play with these parameters\n",
    "\n",
    "step_size = 0.05\n",
    "n_epochs = 6000\n",
    "n_hidden_1 = 32\n",
    "n_hidden_2 = 32\n",
    "d_out = 1\n",
    "\n",
    "neural_network = nn.Sequential(\n",
    "                            nn.Linear(d, n_hidden_1), \n",
    "                            nn.Tanh(),\n",
    "                            nn.Linear(n_hidden_1, n_hidden_2),\n",
    "                            nn.Tanh(),\n",
    "                            nn.Linear(n_hidden_2, d_out)\n",
    "                            )\n",
    "\n",
    "loss_func = nn.MSELoss()\n",
    "\n",
    "optim = torch.optim.SGD(neural_network.parameters(), lr=step_size)\n",
    "print('iter,\\tloss')\n",
    "for i in range(n_epochs):\n",
    "    y_hat = neural_network(X)\n",
    "    loss = loss_func(y_hat, y)\n",
    "    optim.zero_grad()\n",
    "    loss.backward()\n",
    "    optim.step()\n",
    "    \n",
    "    if i % (n_epochs // 10) == 0:\n",
    "        print('{},\\t{:.2f}'.format(i, loss.item()))"
   ]
  },
  {
   "cell_type": "code",
   "execution_count": 53,
   "metadata": {},
   "outputs": [
    {
     "data": {
      "image/png": "[encoded data removed]",
      "text/plain": [
       "<Figure size 432x288 with 1 Axes>"
      ]
     },
     "metadata": {},
     "output_type": "display_data"
    }
   ],
   "source": [
    "X_grid = torch.from_numpy(np.linspace(0,1,50)).float().view(-1, d)\n",
    "y_hat = neural_network(X_grid)\n",
    "plt.scatter(X.numpy(), y.numpy())\n",
    "plt.plot(X_grid.detach().numpy(), y_hat.detach().numpy(), 'r')\n",
    "plt.title('plot of $f(x)$ and $\\hat{f}(x)$')\n",
    "plt.xlabel('$x$')\n",
    "plt.ylabel('$y$')\n",
    "plt.show()"
   ]
  },
  {
   "cell_type": "markdown",
   "metadata": {},
   "source": [
    "# Things that might help on the homework\n",
    "\n",
    "## Brief Sidenote: Momentum\n",
    "\n",
    "There are other optimization algorithms besides stochastic gradient descent. One is a modification of SGD called momentum. We won't get into it here, but if you would like to read more [here](https://distill.pub/2017/momentum/) is a good place to start.\n",
    "\n",
    "We only change the step size and add the momentum keyword argument to the optimizer. Notice how it reduces the training loss in fewer iterations.\n"
   ]
  },
  {
   "cell_type": "code",
   "execution_count": 54,
   "metadata": {},
   "outputs": [
    {
     "name": "stdout",
     "output_type": "stream",
     "text": [
      "iter,\tloss\n",
      "0,\t3.81\n",
      "150,\t3.39\n",
      "300,\t0.98\n",
      "450,\t0.37\n",
      "600,\t0.07\n",
      "750,\t0.03\n",
      "900,\t0.00\n",
      "1050,\t0.00\n",
      "1200,\t0.00\n",
      "1350,\t0.00\n"
     ]
    }
   ],
   "source": [
    "# feel free to play with these parameters\n",
    "\n",
    "step_size = 0.05\n",
    "momentum = 0.9\n",
    "n_epochs = 1500\n",
    "n_hidden_1 = 32\n",
    "n_hidden_2 = 32\n",
    "d_out = 1\n",
    "\n",
    "neural_network = nn.Sequential(\n",
    "                            nn.Linear(d, n_hidden_1), \n",
    "                            nn.Tanh(),\n",
    "                            nn.Linear(n_hidden_1, n_hidden_2),\n",
    "                            nn.Tanh(),\n",
    "                            nn.Linear(n_hidden_2, d_out)\n",
    "                            )\n",
    "\n",
    "loss_func = nn.MSELoss()\n",
    "\n",
    "optim = torch.optim.SGD(neural_network.parameters(), lr=step_size, momentum=momentum)\n",
    "print('iter,\\tloss')\n",
    "for i in range(n_epochs):\n",
    "    y_hat = neural_network(X)\n",
    "    loss = loss_func(y_hat, y)\n",
    "    optim.zero_grad()\n",
    "    loss.backward()\n",
    "    optim.step()\n",
    "    \n",
    "    if i % (n_epochs // 10) == 0:\n",
    "        print('{},\\t{:.2f}'.format(i, loss.item()))\n"
   ]
  },
  {
   "cell_type": "code",
   "execution_count": 55,
   "metadata": {},
   "outputs": [
    {
     "data": {
      "image/png": "[encoded data removed]",
      "text/plain": [
       "<Figure size 432x288 with 1 Axes>"
      ]
     },
     "metadata": {},
     "output_type": "display_data"
    }
   ],
   "source": [
    "X_grid = torch.from_numpy(np.linspace(0,1,50)).float().view(-1, d)\n",
    "y_hat = neural_network(X_grid)\n",
    "plt.scatter(X.numpy(), y.numpy())\n",
    "plt.plot(X_grid.detach().numpy(), y_hat.detach().numpy(), 'r')\n",
    "plt.title('plot of $f(x)$ and $\\hat{f}(x)$')\n",
    "plt.xlabel('$x$')\n",
    "plt.ylabel('$y$')\n",
    "plt.show()"
   ]
  },
  {
   "cell_type": "markdown",
   "metadata": {},
   "source": [
    "## CrossEntropyLoss\n",
    "So far, we have been considering regression tasks and have used the [MSELoss](https://pytorch.org/docs/stable/nn.html#torch.nn.MSELoss) module. For the homework, we will be performing a classification task and will use the cross entropy loss.\n",
    "\n",
    "PyTorch implements a version of the cross entropy loss in one module called [CrossEntropyLoss](https://pytorch.org/docs/stable/nn.html#torch.nn.CrossEntropyLoss). Its usage is slightly different than MSE, so we will break it down here. \n",
    "\n",
    "- input: The first parameter to CrossEntropyLoss is the output of our network. It expects a *real valued* tensor of dimensions $(N,C)$ where $N$ is the minibatch size and $C$ is the number of classes. In our case $N=3$ and $C=2$. The values along the second dimension correspond to raw unnormalized scores for each class. The CrossEntropyLoss module does the softmax calculation for us, so we do not need to apply our own softmax to the output of our neural network.\n",
    "- output: The second parameter to CrossEntropyLoss is the true label. It expects an *integer valued* tensor of dimension $(N)$. The integer at each element corresponds to the correct class. In our case, the \"correct\" class labels are class 0, class 1, and class 1.\n",
    "\n",
    "Try out the loss function on three toy predictions. The true class labels are $y=[1,1,0]$. The first two examples correspond to predictions that are \"correct\" in that they have higher raw scores for the correct class. The second example is \"more confident\" in the prediction, leading to a smaller loss. The last two examples are incorrect predictions with lower and higher confidence respectively."
   ]
  },
  {
   "cell_type": "code",
   "execution_count": 57,
   "metadata": {},
   "outputs": [
    {
     "name": "stdout",
     "output_type": "stream",
     "text": [
      "tensor(0.1269)\n"
     ]
    }
   ],
   "source": [
    "loss = nn.CrossEntropyLoss()\n",
    "\n",
    "input = torch.tensor([[-1., 1],[-1, 1],[1, -1]]) # raw scores correspond to the correct class\n",
    "# input = torch.tensor([[-3., 3],[-3, 3],[3, -3]]) # raw scores correspond to the correct class with higher confidence\n",
    "# input = torch.tensor([[1., -1],[1, -1],[-1, 1]]) # raw scores correspond to the incorrect class\n",
    "# input = torch.tensor([[3., -3],[3, -3],[-3, 3]]) # raw scores correspond to the incorrect class with incorrectly placed confidence\n",
    "\n",
    "target = torch.tensor([1, 1, 0])\n",
    "output = loss(input, target)\n",
    "print(output)"
   ]
  },
  {
   "cell_type": "markdown",
   "metadata": {},
   "source": [
    "## Learning rate schedulers\n",
    "\n",
    "Often we do not want to use a fixed learning rate throughout all training. PyTorch offers learning rate schedulers to change the learning rate over time. Common strategies include multiplying the lr by a constant every epoch (e.g. 0.9) and halving the learning rate when the training loss flattens out.\n",
    "\n",
    "See the [learning rate scheduler docs](https://pytorch.org/docs/stable/optim.html#how-to-adjust-learning-rate) for usage and examples"
   ]
  },
  {
   "cell_type": "markdown",
   "metadata": {},
   "source": [
    "## Convolutions\n",
    "When working with images, we often want to use convolutions to extract features using convolutions. PyTorch implments this for us in the `torch.nn.Conv2d` module. It expects the input to have a specific dimension $(N, C_{in}, H_{in}, W_{in})$ where $N$ is batch size, $C_{in}$ is the number of channels the image has, and $H_{in}, W_{in}$ are the image height and width respectively.\n",
    "\n",
    "We can modify the convolution to have different properties with the parameters:\n",
    "- kernel_size\n",
    "- stride\n",
    "- padding\n",
    "\n",
    "They can change the output dimension so be careful.\n",
    "\n",
    "See the [`torch.nn.Conv2d` docs](https://pytorch.org/docs/stable/nn.html#torch.nn.Conv2d) for more information."
   ]
  },
  {
   "cell_type": "markdown",
   "metadata": {},
   "source": [
    "To illustrate what the `Conv2d` module is doing, let's set the conv weights manually to a Gaussian blur kernel.\n",
    "\n",
    "We can see that it applies the kernel to the image."
   ]
  },
  {
   "cell_type": "code",
   "execution_count": 58,
   "metadata": {},
   "outputs": [],
   "source": [
    "# an entire mnist digit\n",
    "image = np.array([0., 0., 0., 0., 0.,0., 0., 0., 0., 0.,0., 0., 0., 0., 0.,0., 0., 0., 0., 0.,0., 0., 0., 0., 0.,0., 0., 0., 0., 0.,0., 0., 0., 0., 0.,0., 0., 0., 0., 0.,0., 0., 0., 0., 0.,0., 0., 0., 0., 0.,0., 0., 0., 0., 0.,0., 0., 0., 0., 0.,0., 0., 0., 0., 0.,0., 0., 0., 0., 0.,0., 0., 0., 0., 0.,0., 0., 0., 0., 0.,0., 0., 0., 0., 0.,0., 0., 0., 0., 0.,0., 0., 0., 0., 0.,0., 0., 0., 0., 0.,0., 0., 0., 0., 0.,0., 0., 0., 0., 0.,0., 0., 0., 0., 0.,0., 0., 0., 0., 0.,0., 0., 0., 0., 0.,0., 0., 0., 0., 0.,0., 0., 0., 0., 0.,0., 0., 0., 0., 0.,0., 0., 0., 0., 0.,0., 0., 0., 0., 0.,0., 0., 0., 0., 0.,0., 0., 0., 0., 0.,0., 0., 0., 0., 0.,0., 0., 0., 0., 0.,0., 0., 0., 0., 0.,0., 0., 0., 0., 0.,0., 0., 0., 0., 0.,0., 0., 0., 0., 0.,0., 0., 0., 0., 0.,0., 0., 0., 0., 0.,0., 0., 0., 0., 0.,0., 0., 0.3803922 , 0.37647063, 0.3019608 ,0.46274513, 0.2392157 , 0., 0., 0.,0., 0., 0., 0., 0.,0., 0., 0., 0., 0.,0., 0., 0.3529412 , 0.5411765 , 0.9215687 ,0.9215687 , 0.9215687 , 0.9215687 , 0.9215687 , 0.9215687 ,0.9843138 , 0.9843138 , 0.9725491 , 0.9960785 , 0.9607844 ,0.9215687 , 0.74509805, 0.08235294, 0., 0.,0., 0., 0., 0., 0.,0., 0., 0., 0., 0.54901963,0.9843138 , 0.9960785 , 0.9960785 , 0.9960785 , 0.9960785 ,0.9960785 , 0.9960785 , 0.9960785 , 0.9960785 , 0.9960785 ,0.9960785 , 0.9960785 , 0.9960785 , 0.9960785 , 0.9960785 ,0.7411765 , 0.09019608, 0., 0., 0.,0., 0., 0., 0., 0.,0., 0., 0.8862746 , 0.9960785 , 0.81568635,0.7803922 , 0.7803922 , 0.7803922 , 0.7803922 , 0.54509807,0.2392157 , 0.2392157 , 0.2392157 , 0.2392157 , 0.2392157 ,0.5019608 , 0.8705883 , 0.9960785 , 0.9960785 , 0.7411765 ,0.08235294, 0., 0., 0., 0.,0., 0., 0., 0., 0.,0.14901961, 0.32156864, 0.0509804 , 0., 0.,0., 0., 0., 0., 0.,0., 0., 0., 0., 0.13333334,0.8352942 , 0.9960785 , 0.9960785 , 0.45098042, 0.,0., 0., 0., 0., 0.,0., 0., 0., 0., 0.,0., 0., 0., 0., 0.,0., 0., 0., 0., 0.,0., 0., 0., 0.32941177, 0.9960785 ,0.9960785 , 0.9176471 , 0., 0., 0.,0., 0., 0., 0., 0.,0., 0., 0., 0., 0.,0., 0., 0., 0., 0.,0., 0., 0., 0., 0.,0., 0.32941177, 0.9960785 , 0.9960785 , 0.9176471 ,0., 0., 0., 0., 0.,0., 0., 0., 0., 0.,0., 0., 0., 0., 0.,0., 0., 0., 0., 0.,0., 0., 0., 0.4156863 , 0.6156863 ,0.9960785 , 0.9960785 , 0.95294124, 0.20000002, 0.,0., 0., 0., 0., 0.,0., 0., 0., 0., 0.,0., 0., 0., 0., 0.,0., 0.09803922, 0.45882356, 0.8941177 , 0.8941177 ,0.8941177 , 0.9921569 , 0.9960785 , 0.9960785 , 0.9960785 ,0.9960785 , 0.94117653, 0., 0., 0.,0., 0., 0., 0., 0.,0., 0., 0., 0., 0.,0., 0., 0.26666668, 0.4666667 , 0.86274517,0.9960785 , 0.9960785 , 0.9960785 , 0.9960785 , 0.9960785 ,0.9960785 , 0.9960785 , 0.9960785 , 0.9960785 , 0.5568628 ,0., 0., 0., 0., 0.,0., 0., 0., 0., 0.,0., 0., 0., 0.14509805, 0.73333335,0.9921569 , 0.9960785 , 0.9960785 , 0.9960785 , 0.8745099 ,0.8078432 , 0.8078432 , 0.29411766, 0.26666668, 0.8431373 ,0.9960785 , 0.9960785 , 0.45882356, 0., 0.,0., 0., 0., 0., 0.,0., 0., 0., 0., 0.,0.4431373 , 0.8588236 , 0.9960785 , 0.9490197 , 0.89019614,0.45098042, 0.34901962, 0.12156864, 0., 0.,0., 0., 0.7843138 , 0.9960785 , 0.9450981 ,0.16078432, 0., 0., 0., 0.,0., 0., 0., 0., 0.,0., 0., 0., 0.6627451 , 0.9960785 ,0.6901961 , 0.24313727, 0., 0., 0.,0., 0., 0., 0., 0.18823531,0.9058824 , 0.9960785 , 0.9176471 , 0., 0.,0., 0., 0., 0., 0.,0., 0., 0., 0., 0.,0., 0.07058824, 0.48627454, 0., 0.,0., 0., 0., 0., 0.,0., 0., 0.32941177, 0.9960785 , 0.9960785 ,0.6509804 , 0., 0., 0., 0.,0., 0., 0., 0., 0.,0., 0., 0., 0., 0.,0., 0., 0., 0., 0.,0., 0., 0., 0., 0.,0.54509807, 0.9960785 , 0.9333334 , 0.22352943, 0.,0., 0., 0., 0., 0.,0., 0., 0., 0., 0.,0., 0., 0., 0., 0.,0., 0., 0., 0., 0.,0., 0., 0.8235295 , 0.9803922 , 0.9960785 ,0.65882355, 0., 0., 0., 0.,0., 0., 0., 0., 0.,0., 0., 0., 0., 0.,0., 0., 0., 0., 0.,0., 0., 0., 0., 0.,0.9490197 , 0.9960785 , 0.93725497, 0.22352943, 0.,0., 0., 0., 0., 0.,0., 0., 0., 0., 0.,0., 0., 0., 0., 0.,0., 0., 0., 0., 0.,0., 0., 0.34901962, 0.9843138 , 0.9450981 ,0.3372549 , 0., 0., 0., 0.,0., 0., 0., 0., 0.,0., 0., 0., 0., 0.,0., 0., 0., 0., 0.,0., 0., 0., 0., 0.01960784,0.8078432 , 0.96470594, 0.6156863 , 0., 0.,0., 0., 0., 0., 0.,0., 0., 0., 0., 0.,0., 0., 0., 0., 0.,0., 0., 0., 0., 0.,0., 0., 0.01568628, 0.45882356, 0.27058825,0., 0., 0., 0., 0.,0., 0., 0., 0., 0.,0., 0., 0., 0., 0.,0., 0., 0., 0., 0.,0., 0., 0., 0., 0.,0., 0., 0., 0., 0.,0., 0., 0., 0., 0.,0., 0., 0., 0.], dtype=np.float32)\n",
    "image_torch = torch.from_numpy(image).view(1, 1, 28, 28)"
   ]
  },
  {
   "cell_type": "code",
   "execution_count": 59,
   "metadata": {},
   "outputs": [
    {
     "data": {
      "image/png": "[encoded data removed]",
      "text/plain": [
       "<Figure size 432x288 with 1 Axes>"
      ]
     },
     "metadata": {},
     "output_type": "display_data"
    },
    {
     "data": {
      "image/png": "[encoded data removed]",
      "text/plain": [
       "<Figure size 432x288 with 1 Axes>"
      ]
     },
     "metadata": {},
     "output_type": "display_data"
    }
   ],
   "source": [
    "# a gaussian blur kernel\n",
    "gaussian_kernel = torch.tensor([[1., 2, 1],[2, 4, 2],[1, 2, 1]]) / 16.0\n",
    "\n",
    "conv = nn.Conv2d(1, 1, 3)\n",
    "# manually set the conv weight\n",
    "conv.weight.data[:] = gaussian_kernel\n",
    "\n",
    "convolved = conv(image_torch)\n",
    "\n",
    "plt.title('original image')\n",
    "plt.imshow(image_torch.view(28,28).detach().numpy())\n",
    "plt.show()\n",
    "\n",
    "plt.title('blurred image')\n",
    "plt.imshow(convolved.view(26,26).detach().numpy())\n",
    "plt.show()"
   ]
  },
  {
   "cell_type": "markdown",
   "metadata": {},
   "source": [
    "As we can see, the image is blurred as expected. \n",
    "\n",
    "In practice, we learn many kernels at a time. In this example, we take in an RGB image (3 channels) and output a 16 channel image. After an activation function, that could be used as input to another `Conv2d` module."
   ]
  },
  {
   "cell_type": "code",
   "execution_count": 61,
   "metadata": {},
   "outputs": [
    {
     "name": "stdout",
     "output_type": "stream",
     "text": [
      "im shape torch.Size([4, 3, 32, 32])\n",
      "convolved im shape torch.Size([4, 16, 30, 30])\n"
     ]
    }
   ],
   "source": [
    "im_channels = 3 # if we are working with RGB images, there are 3 input channels, with black and white, 1\n",
    "out_channels = 16 # this is a hyperparameter we can tune\n",
    "kernel_size = 3 # this is another hyperparameter we can tune\n",
    "batch_size = 4\n",
    "image_width = 32\n",
    "image_height = 32\n",
    "\n",
    "im = torch.randn(batch_size, im_channels, image_width, image_height)\n",
    "\n",
    "m = nn.Conv2d(im_channels, out_channels, kernel_size)\n",
    "convolved = m(im) # it is a module so we can call it\n",
    "\n",
    "print('im shape', im.shape)\n",
    "print('convolved im shape', convolved.shape)"
   ]
  },
  {
   "cell_type": "markdown",
   "metadata": {},
   "source": [
    "## Useful links:\n",
    "- [60 minute PyTorch Tutorial](https://pytorch.org/tutorials/beginner/deep_learning_60min_blitz.html)\n",
    "- [PyTorch Docs](https://pytorch.org/docs/stable/index.html)\n",
    "- [Lecture notes on Auto-Diff](https://courses.cs.washington.edu/courses/cse446/19wi/notes/auto-diff.pdf)"
   ]
  },
  {
   "cell_type": "markdown",
   "metadata": {},
   "source": [
    "\n",
    "Custom Datasets, DataLoaders\n",
    "===================================================\n",
    "This is modified from pytorch official tutorial.\n",
    "**Author**: `Sasank Chilamkurthy <https://chsasank.github.io>`_\n",
    "\n",
    "A lot of effort in solving any machine learning problem goes in to\n",
    "preparing the data. PyTorch provides many tools to make data loading\n",
    "easy and hopefully, to make your code more readable. In this tutorial,\n",
    "we will see how to load and preprocess/augment data from a non trivial\n",
    "dataset."
   ]
  },
  {
   "cell_type": "markdown",
   "metadata": {},
   "source": [
    "Dataset class\n",
    "-------------\n",
    "\n",
    "``torch.utils.data.Dataset`` is an abstract class representing a\n",
    "dataset.\n",
    "Your custom dataset should inherit ``Dataset`` and override the following\n",
    "methods:\n",
    "\n",
    "-  ``__len__`` so that ``len(dataset)`` returns the size of the dataset.\n",
    "-  ``__getitem__`` to support the indexing such that ``dataset[i]`` can\n",
    "   be used to get $i$\\ th sample\n",
    "\n",
    "Let's create a dataset class for our face landmarks dataset. We will\n",
    "read the csv in ``__init__`` but leave the reading of images to\n",
    "``__getitem__``. This is memory efficient because all the images are not\n",
    "stored in the memory at once but read as required.\n",
    "\n",
    "Sample of our dataset will be a dict\n",
    "``{'image': image, 'landmarks': landmarks}``. Our dataset will take an\n",
    "optional argument ``transform`` so that any required processing can be\n",
    "applied on the sample. We will see the usefulness of ``transform`` in the\n",
    "next section."
   ]
  },
  {
   "cell_type": "code",
   "execution_count": 66,
   "metadata": {},
   "outputs": [],
   "source": [
    "from torch.utils.data import Dataset, DataLoader\n",
    "\n",
    "\n",
    "class FakeDataset(Dataset):\n",
    "\n",
    "    def __init__(self, x, y):\n",
    "        self.x = x\n",
    "        self.y = y\n",
    "\n",
    "    def __len__(self):\n",
    "        return len(self.x)\n",
    "\n",
    "    def __getitem__(self, idx):\n",
    "        return self.x[idx], self.y[idx]"
   ]
  },
  {
   "cell_type": "markdown",
   "metadata": {},
   "source": [
    "However, we are losing a lot of features by using a simple ``for`` loop to\n",
    "iterate over the data. In particular, we are missing out on:\n",
    "\n",
    "-  Batching the data\n",
    "-  Shuffling the data\n",
    "-  Load the data in parallel using ``multiprocessing`` workers.\n",
    "\n",
    "``torch.utils.data.DataLoader`` is an iterator which provides all these\n",
    "features. Parameters used below should be clear. One parameter of\n",
    "interest is ``collate_fn``. You can specify how exactly the samples need\n",
    "to be batched using ``collate_fn``. However, default collate should work\n",
    "fine for most use cases."
   ]
  },
  {
   "cell_type": "code",
   "execution_count": 70,
   "metadata": {},
   "outputs": [
    {
     "name": "stdout",
     "output_type": "stream",
     "text": [
      "0 [tensor([[0.1117, 0.2174, 0.7354, 0.3561, 0.1754, 0.1403, 0.6688, 0.6251, 0.4285,\n",
      "         0.9716],\n",
      "        [0.4398, 0.1001, 0.0084, 0.8659, 0.3490, 0.3806, 0.0102, 0.3509, 0.8572,\n",
      "         0.8267],\n",
      "        [0.1858, 0.9397, 0.4751, 0.4637, 0.8265, 0.5246, 0.0011, 0.8459, 0.3352,\n",
      "         0.9324],\n",
      "        [0.3445, 0.1920, 0.2816, 0.5594, 0.4189, 0.7805, 0.3698, 0.2583, 0.4177,\n",
      "         0.4859]], dtype=torch.float64), tensor([0.0141, 0.6489, 0.2030, 0.4539])]\n",
      "1 [tensor([[0.5381, 0.2449, 0.1717, 0.4920, 0.6442, 0.6757, 0.5423, 0.0021, 0.8784,\n",
      "         0.2869],\n",
      "        [0.3515, 0.4359, 0.7168, 0.0932, 0.5602, 0.8974, 0.4970, 0.3003, 0.7046,\n",
      "         0.6601],\n",
      "        [0.8213, 0.4563, 0.6319, 0.3796, 0.5660, 0.1448, 0.8584, 0.6606, 0.8441,\n",
      "         0.5635],\n",
      "        [0.0965, 0.7264, 0.4838, 0.9470, 0.2631, 0.6506, 0.7063, 0.0757, 0.1079,\n",
      "         0.3857]], dtype=torch.float64), tensor([0.9298, 0.5432, 0.9064, 0.5619])]\n",
      "2 [tensor([[0.3972, 0.0874, 0.4262, 0.2025, 0.6777, 0.8853, 0.5449, 0.0354, 0.2925,\n",
      "         0.8689],\n",
      "        [0.1678, 0.1803, 0.5752, 0.9339, 0.8730, 0.2849, 0.5286, 0.5439, 0.0168,\n",
      "         0.7676],\n",
      "        [0.7513, 0.3267, 0.0776, 0.4245, 0.8589, 0.2800, 0.6597, 0.3245, 0.1790,\n",
      "         0.7098],\n",
      "        [0.7951, 0.6507, 0.3442, 0.5084, 0.2618, 0.1722, 0.9705, 0.3664, 0.4242,\n",
      "         0.1261]], dtype=torch.float64), tensor([0.3055, 0.6546, 0.3337, 0.5200])]\n",
      "3 [tensor([[0.9548, 0.6189, 0.0442, 0.7301, 0.3674, 0.8646, 0.9819, 0.2489, 0.9081,\n",
      "         0.9480],\n",
      "        [0.8788, 0.3943, 0.3416, 0.1234, 0.4595, 0.3688, 0.4641, 0.5651, 0.2780,\n",
      "         0.1799],\n",
      "        [0.2780, 0.8685, 0.4439, 0.1100, 0.3139, 0.8411, 0.2646, 0.0247, 0.8187,\n",
      "         0.0413],\n",
      "        [0.2016, 0.5988, 0.6622, 0.8618, 0.1967, 0.3921, 0.6322, 0.1566, 0.1961,\n",
      "         0.5680]], dtype=torch.float64), tensor([0.2068, 0.0449, 0.7760, 0.2631])]\n",
      "4 [tensor([[0.0332, 0.1464, 0.8921, 0.9711, 0.5093, 0.8452, 0.6191, 0.9419, 0.4199,\n",
      "         0.4919],\n",
      "        [0.4155, 0.1264, 0.1580, 0.5940, 0.6092, 0.7136, 0.6750, 0.4474, 0.7163,\n",
      "         0.4891],\n",
      "        [0.3521, 0.8108, 0.8071, 0.4153, 0.8403, 0.9214, 0.8526, 0.1446, 0.8063,\n",
      "         0.9247],\n",
      "        [0.4433, 0.6589, 0.5312, 0.5166, 0.3861, 0.6651, 0.5662, 0.6743, 0.5463,\n",
      "         0.7613]], dtype=torch.float64), tensor([0.6917, 0.4694, 0.0433, 0.3116])]\n",
      "5 [tensor([[0.3866, 0.8966, 0.0862, 0.0193, 0.3783, 0.0049, 0.1859, 0.2684, 0.0432,\n",
      "         0.8969],\n",
      "        [0.2057, 0.6454, 0.8892, 0.6048, 0.0178, 0.3736, 0.0436, 0.2016, 0.3544,\n",
      "         0.4344],\n",
      "        [0.0064, 0.1140, 0.2438, 0.3239, 0.9591, 0.3163, 0.0915, 0.5525, 0.3509,\n",
      "         0.7511],\n",
      "        [0.1066, 0.5837, 0.4671, 0.1289, 0.4787, 0.3638, 0.2892, 0.3235, 0.8245,\n",
      "         0.7806]], dtype=torch.float64), tensor([0.2067, 0.9586, 0.0104, 0.1748])]\n",
      "6 [tensor([[0.6761, 0.6198, 0.8119, 0.1037, 0.7496, 0.4207, 0.9140, 0.2653, 0.4266,\n",
      "         0.7839],\n",
      "        [0.8540, 0.9410, 0.4608, 0.5915, 0.0474, 0.3249, 0.4758, 0.7536, 0.5501,\n",
      "         0.2797],\n",
      "        [0.6810, 0.9935, 0.9456, 0.8854, 0.8719, 0.4411, 0.5812, 0.7767, 0.2243,\n",
      "         0.0074],\n",
      "        [0.0514, 0.8054, 0.1546, 0.1948, 0.1423, 0.5968, 0.1089, 0.0830, 0.7782,\n",
      "         0.8543]], dtype=torch.float64), tensor([0.8442, 0.0422, 0.7613, 0.3310])]\n",
      "7 [tensor([[0.6672, 0.4658, 0.6183, 0.5136, 0.9820, 0.4465, 0.6540, 0.4132, 0.2723,\n",
      "         0.1656],\n",
      "        [0.5607, 0.5219, 0.9351, 0.9484, 0.9739, 0.9983, 0.6270, 0.0951, 0.7889,\n",
      "         0.1010],\n",
      "        [0.1577, 0.7478, 0.7181, 0.2060, 0.3414, 0.8185, 0.5045, 0.4551, 0.6261,\n",
      "         0.7739],\n",
      "        [0.0680, 0.6034, 0.8811, 0.1376, 0.6114, 0.8366, 0.3230, 0.5924, 0.4885,\n",
      "         0.0540]], dtype=torch.float64), tensor([0.5077, 0.4367, 0.3290, 0.3761])]\n",
      "8 [tensor([[0.6231, 0.5792, 0.5930, 0.9603, 0.4683, 0.1936, 0.6590, 0.6250, 0.3171,\n",
      "         0.4591],\n",
      "        [0.3943, 0.3077, 0.7929, 0.7777, 0.1471, 0.5035, 0.4082, 0.7555, 0.5978,\n",
      "         0.5556],\n",
      "        [0.3072, 0.1997, 0.8842, 0.1291, 0.7912, 0.3010, 0.5200, 0.0321, 0.8990,\n",
      "         0.0935],\n",
      "        [0.4673, 0.9144, 0.2064, 0.2398, 0.4840, 0.3947, 0.0700, 0.9452, 0.3747,\n",
      "         0.5106]], dtype=torch.float64), tensor([0.8026, 0.9084, 0.8237, 0.2557])]\n",
      "9 [tensor([[0.4194, 0.7100, 0.0473, 0.8361, 0.8802, 0.6353, 0.2227, 0.7114, 0.7776,\n",
      "         0.2963],\n",
      "        [0.9808, 0.2538, 0.0674, 0.7254, 0.5964, 0.4237, 0.5545, 0.1785, 0.9681,\n",
      "         0.1554],\n",
      "        [0.9285, 0.6001, 0.5001, 0.3841, 0.5724, 0.1040, 0.9887, 0.7183, 0.7943,\n",
      "         0.3160],\n",
      "        [0.7957, 0.0303, 0.5454, 0.3552, 0.7941, 0.7652, 0.6113, 0.6292, 0.8934,\n",
      "         0.8331]], dtype=torch.float64), tensor([0.4910, 0.0446, 0.6109, 0.0489])]\n",
      "10 [tensor([[0.7749, 0.8804, 0.5764, 0.1605, 0.9780, 0.2896, 0.8279, 0.6759, 0.5327,\n",
      "         0.6122],\n",
      "        [0.7717, 0.5444, 0.2628, 0.7883, 0.6262, 0.2534, 0.2614, 0.0879, 0.9497,\n",
      "         0.9368],\n",
      "        [0.4957, 0.0415, 0.2067, 0.8846, 0.8682, 0.9566, 0.5442, 0.0906, 0.1598,\n",
      "         0.5070],\n",
      "        [0.5170, 0.7111, 0.7980, 0.6288, 0.6526, 0.5078, 0.9070, 0.9581, 0.9745,\n",
      "         0.7804]], dtype=torch.float64), tensor([0.1243, 0.2914, 0.6442, 0.9883])]\n",
      "11 [tensor([[0.9571, 0.7920, 0.0945, 0.1594, 0.0040, 0.7624, 0.3526, 0.6134, 0.9442,\n",
      "         0.7121],\n",
      "        [0.7606, 0.2707, 0.2213, 0.8047, 0.4032, 0.7804, 0.0931, 0.3326, 0.7179,\n",
      "         0.3419],\n",
      "        [0.6867, 0.1560, 0.5646, 0.2990, 0.8350, 0.6823, 0.7297, 0.8780, 0.8271,\n",
      "         0.4284],\n",
      "        [0.4056, 0.6423, 0.3700, 0.1232, 0.6931, 0.6766, 0.8357, 0.2222, 0.6209,\n",
      "         0.6678]], dtype=torch.float64), tensor([0.9565, 0.4097, 0.4630, 0.4135])]\n",
      "12 [tensor([[0.0370, 0.6891, 0.8272, 0.0343, 0.0319, 0.3723, 0.3000, 0.5670, 0.3529,\n",
      "         0.4837],\n",
      "        [0.6291, 0.0784, 0.6327, 0.0381, 0.0458, 0.3050, 0.5787, 0.3711, 0.6801,\n",
      "         0.9449],\n",
      "        [0.6122, 0.5403, 0.6101, 0.9905, 0.0695, 0.4325, 0.3346, 0.2191, 0.5322,\n",
      "         0.9928],\n",
      "        [0.7910, 0.8190, 0.2067, 0.0169, 0.9489, 0.1140, 0.6847, 0.7894, 0.0996,\n",
      "         0.8422]], dtype=torch.float64), tensor([0.0831, 0.9805, 0.2300, 0.0172])]\n",
      "13 [tensor([[0.9748, 0.8940, 0.3001, 0.4270, 0.7468, 0.9269, 0.4101, 0.9901, 0.5301,\n",
      "         0.6068],\n",
      "        [0.2457, 0.9581, 0.4725, 0.8517, 0.2933, 0.0245, 0.5858, 0.9932, 0.6315,\n",
      "         0.3312],\n",
      "        [0.1866, 0.7895, 0.9121, 0.4862, 0.8750, 0.1520, 0.9360, 0.7538, 0.5011,\n",
      "         0.0225],\n",
      "        [0.5127, 0.9356, 0.2806, 0.0323, 0.0075, 0.8795, 0.2166, 0.9430, 0.1345,\n",
      "         0.9812]], dtype=torch.float64), tensor([0.5562, 0.0134, 0.8217, 0.4405])]\n",
      "14 [tensor([[3.6129e-01, 5.7127e-01, 9.5994e-01, 3.1076e-01, 3.6492e-01, 1.5566e-01,\n",
      "         4.1043e-01, 5.0996e-01, 3.9715e-03, 2.7382e-01],\n",
      "        [5.5652e-01, 8.7288e-01, 2.1086e-01, 8.2608e-01, 8.0225e-01, 7.9689e-03,\n",
      "         6.6277e-01, 9.7011e-04, 8.5599e-01, 7.0117e-02],\n",
      "        [4.3114e-01, 3.3430e-01, 6.9947e-01, 2.3023e-01, 2.6978e-01, 6.6829e-01,\n",
      "         7.5012e-01, 8.4571e-01, 6.8991e-01, 7.4113e-01],\n",
      "        [5.8833e-01, 5.8828e-01, 5.3332e-01, 9.3748e-01, 4.6937e-01, 5.6362e-01,\n",
      "         9.8443e-01, 1.9896e-01, 6.7111e-01, 6.3670e-01]], dtype=torch.float64), tensor([0.2148, 0.2290, 0.0498, 0.9624])]\n",
      "15 [tensor([[0.7708, 0.7827, 0.4744, 0.7493, 0.4115, 0.9189, 0.5936, 0.3534, 0.3074,\n",
      "         0.2678],\n",
      "        [0.0912, 0.3420, 0.8280, 0.4854, 0.5476, 0.8735, 0.3614, 0.7197, 0.2693,\n",
      "         0.2370],\n",
      "        [0.3230, 0.4210, 0.3341, 0.1063, 0.2446, 0.4127, 0.4554, 0.5016, 0.7741,\n",
      "         0.4014],\n",
      "        [0.2518, 0.7316, 0.4339, 0.4714, 0.5285, 0.9812, 0.3088, 0.8776, 0.7380,\n",
      "         0.7230]], dtype=torch.float64), tensor([0.8316, 0.0230, 0.5925, 0.1035])]\n",
      "16 [tensor([[0.7090, 0.7701, 0.4289, 0.9104, 0.2280, 0.5304, 0.4390, 0.7545, 0.7745,\n",
      "         0.5924],\n",
      "        [0.7881, 0.9147, 0.2334, 0.3725, 0.9216, 0.6796, 0.8626, 0.6447, 0.1186,\n",
      "         0.4334],\n",
      "        [0.9533, 0.8143, 0.4643, 0.5045, 0.9403, 0.5767, 0.4129, 0.4825, 0.1102,\n",
      "         0.8517],\n",
      "        [0.6762, 0.7569, 0.1109, 0.5675, 0.4383, 0.1733, 0.2384, 0.4062, 0.9041,\n",
      "         0.1762]], dtype=torch.float64), tensor([0.5503, 0.9271, 0.9275, 0.5152])]\n",
      "17 [tensor([[0.7660, 0.1028, 0.2054, 0.5475, 0.9687, 0.5903, 0.4727, 0.4595, 0.3189,\n",
      "         0.8508],\n",
      "        [0.8846, 0.0341, 0.6357, 0.7156, 0.3665, 0.8346, 0.3688, 0.4145, 0.6415,\n",
      "         0.1318],\n",
      "        [0.7836, 0.4513, 0.3216, 0.2717, 0.0504, 0.6059, 0.4179, 0.1717, 0.0866,\n",
      "         0.9496],\n",
      "        [0.1461, 0.6539, 0.0428, 0.3959, 0.1255, 0.5742, 0.5954, 0.4571, 0.6672,\n",
      "         0.8872]], dtype=torch.float64), tensor([0.8893, 0.4363, 0.9396, 0.1383])]\n",
      "18 [tensor([[0.8410, 0.5525, 0.9048, 0.8800, 0.6195, 0.0295, 0.7737, 0.8511, 0.0153,\n",
      "         0.7188],\n",
      "        [0.6765, 0.6553, 0.0888, 0.3324, 0.0631, 0.2860, 0.8535, 0.7764, 0.0491,\n",
      "         0.4476],\n",
      "        [0.7363, 0.6372, 0.9238, 0.0556, 0.3784, 0.8986, 0.7726, 0.7590, 0.5463,\n",
      "         0.4304],\n",
      "        [0.6397, 0.8360, 0.1438, 0.2309, 0.2261, 0.5386, 0.4793, 0.7169, 0.1695,\n",
      "         0.1207]], dtype=torch.float64), tensor([0.2474, 0.8449, 0.5259, 0.7919])]\n",
      "19 [tensor([[0.9800, 0.7985, 0.8354, 0.2283, 0.7556, 0.7101, 0.7722, 0.1633, 0.0782,\n",
      "         0.3534],\n",
      "        [0.2209, 0.4021, 0.3757, 0.9155, 0.1267, 0.9473, 0.1413, 0.8719, 0.1210,\n",
      "         0.2549],\n",
      "        [0.5528, 0.6188, 0.9934, 0.3746, 0.5355, 0.5653, 0.7076, 0.2588, 0.0678,\n",
      "         0.3042],\n",
      "        [0.8124, 0.7873, 0.4835, 0.6725, 0.0187, 0.9683, 0.8039, 0.3081, 0.6662,\n",
      "         0.2060]], dtype=torch.float64), tensor([0.4476, 0.1503, 0.2806, 0.9973])]\n",
      "20 [tensor([[0.5688, 0.8869, 0.1081, 0.1911, 0.9452, 0.2310, 0.3065, 0.7039, 0.9240,\n",
      "         0.3980],\n",
      "        [0.7334, 0.9807, 0.7051, 0.4029, 0.7136, 0.3641, 0.0034, 0.9482, 0.1604,\n",
      "         0.6329],\n",
      "        [0.2595, 0.1347, 0.0910, 0.6208, 0.2002, 0.9476, 0.4335, 0.3297, 0.5855,\n",
      "         0.2120],\n",
      "        [0.0234, 0.6258, 0.1312, 0.1182, 0.2725, 0.2490, 0.0657, 0.5626, 0.0291,\n",
      "         0.1413]], dtype=torch.float64), tensor([0.5947, 0.4456, 0.3635, 0.0779])]\n",
      "21 [tensor([[0.7807, 0.2681, 0.6485, 0.3799, 0.3457, 0.8675, 0.2677, 0.4904, 0.6452,\n",
      "         0.2511],\n",
      "        [0.2003, 0.8388, 0.8119, 0.2108, 0.9546, 0.6503, 0.4387, 0.4300, 0.6899,\n",
      "         0.7304],\n",
      "        [0.7173, 0.8613, 0.1251, 0.3335, 0.9576, 0.2343, 0.0144, 0.7986, 0.7448,\n",
      "         0.7708],\n",
      "        [0.1783, 0.9462, 0.5479, 0.2043, 0.7817, 0.0513, 0.8725, 0.7601, 0.7139,\n",
      "         0.6772]], dtype=torch.float64), tensor([0.3569, 0.6956, 0.4438, 0.3773])]\n",
      "22 [tensor([[0.3061, 0.7052, 0.6419, 0.4471, 0.7072, 0.1348, 0.3990, 0.2397, 0.8477,\n",
      "         0.9717],\n",
      "        [0.3204, 0.5242, 0.9154, 0.3536, 0.3665, 0.8839, 0.4295, 0.3895, 0.6151,\n",
      "         0.2648],\n",
      "        [0.5677, 0.8661, 0.7987, 0.9832, 0.3121, 0.1364, 0.2796, 0.1483, 0.6576,\n",
      "         0.7004],\n",
      "        [0.0586, 0.7002, 0.7503, 0.0905, 0.7391, 0.4119, 0.8898, 0.2312, 0.0336,\n",
      "         0.4972]], dtype=torch.float64), tensor([0.6319, 0.6897, 0.0169, 0.6981])]\n",
      "23 [tensor([[0.9031, 0.5822, 0.6644, 0.5570, 0.1516, 0.8518, 0.4757, 0.7593, 0.1418,\n",
      "         0.7110],\n",
      "        [0.1950, 0.0956, 0.2784, 0.3431, 0.5487, 0.7189, 0.8052, 0.2642, 0.9531,\n",
      "         0.7719],\n",
      "        [0.9458, 0.5600, 0.3965, 0.8725, 0.1262, 0.0270, 0.8182, 0.5669, 0.0834,\n",
      "         0.5892],\n",
      "        [0.5454, 0.8614, 0.2097, 0.3712, 0.3101, 0.8019, 0.9354, 0.8771, 0.1029,\n",
      "         0.4434]], dtype=torch.float64), tensor([0.1985, 0.8188, 0.8309, 0.9753])]\n",
      "24 [tensor([[0.6843, 0.0220, 0.2708, 0.2652, 0.5846, 0.3899, 0.3696, 0.2857, 0.1362,\n",
      "         0.6191],\n",
      "        [0.6324, 0.6828, 0.6426, 0.6400, 0.4453, 0.0825, 0.6224, 0.2245, 0.9311,\n",
      "         0.8544],\n",
      "        [0.0186, 0.2611, 0.6582, 0.9219, 0.9793, 0.6613, 0.2014, 0.3744, 0.9510,\n",
      "         0.0563],\n",
      "        [0.7939, 0.0594, 0.8157, 0.1715, 0.1613, 0.9474, 0.4695, 0.5895, 0.0557,\n",
      "         0.7760]], dtype=torch.float64), tensor([0.1057, 0.6251, 0.5485, 0.7633])]\n"
     ]
    }
   ],
   "source": [
    "x = np.random.rand(100, 10)\n",
    "y = np.random.rand(100)\n",
    "\n",
    "dataset = FakeDataset(x, y)\n",
    "dataloader = DataLoader(dataset, batch_size=4,\n",
    "                        shuffle=True, num_workers=0)\n",
    "\n",
    "for i_batch, sample_batched in enumerate(dataloader):\n",
    "    print(i_batch, sample_batched)"
   ]
  },
  {
   "cell_type": "markdown",
   "metadata": {},
   "source": [
    "Mixed Presision Training\n",
    "===================================================\n",
    "**Author**: `Chi-Liang Liu <https://liangtaiwan.github.io>`\n",
    "**Ref**: https://github.com/NVIDIA/apex\n",
    "Using mixed precision to train your networks can be:\n",
    "- 2-4x faster\n",
    "- memory-efficient\n",
    "in only 3 lines of Python."
   ]
  },
  {
   "cell_type": "markdown",
   "metadata": {},
   "source": [
    "## apex.amp\n",
    "\n",
    "Amp allows users to easily experiment with different pure and mixed precision modes.\n",
    "Commonly-used default modes are chosen by\n",
    "selecting an \"optimization level\" or ``opt_level``; each ``opt_level`` establishes a set of\n",
    "properties that govern Amp's implementation of pure or mixed precision training.\n",
    "Finer-grained control of how a given ``opt_level`` behaves can be achieved by passing values for\n",
    "particular properties directly to ``amp.initialize``.  These manually specified values\n",
    "override the defaults established by the ``opt_level``."
   ]
  },
  {
   "cell_type": "code",
   "execution_count": null,
   "metadata": {},
   "outputs": [],
   "source": [
    "from apex import amp\n",
    "\n",
    "# Declare model and optimizer as usual, with default (FP32) precision\n",
    "model = torch.nn.Linear(10, 100).cuda()\n",
    "optimizer = torch.optim.SGD(model.parameters(), lr=1e-3)\n",
    "\n",
    "# Allow Amp to perform casts as required by the opt_level\n",
    "model, optimizer = amp.initialize(model, optimizer, opt_level=\"O1\")\n",
    "...\n",
    "# loss.backward() becomes:\n",
    "with amp.scale_loss(loss, optimizer) as scaled_loss:\n",
    "    scaled_loss.backward()\n",
    "..."
   ]
  }
 ],
 "metadata": {
  "kernelspec": {
   "display_name": "Python 3",
   "language": "python",
   "name": "python3"
  },
  "language_info": {
   "codemirror_mode": {
    "name": "ipython",
    "version": 3
   },
   "file_extension": ".py",
   "mimetype": "text/x-python",
   "name": "python",
   "nbconvert_exporter": "python",
   "pygments_lexer": "ipython3",
   "version": "3.6.5"
  }
 },
 "nbformat": 4,
 "nbformat_minor": 2
}
